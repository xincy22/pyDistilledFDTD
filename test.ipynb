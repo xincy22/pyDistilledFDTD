{
 "cells": [
  {
   "cell_type": "code",
   "execution_count": null,
   "metadata": {},
   "outputs": [],
   "source": [
    "import torch\n",
    "import torch.nn as nn\n",
    "from torch.utils.data import DataLoader, Dataset\n",
    "\n",
    "from simulation.student import LSTMPredictor\n",
    "from simulation.simulator import FDTDSimulator\n",
    "\n",
    "from dataset import load_core_set_data"
   ]
  },
  {
   "cell_type": "markdown",
   "metadata": {},
   "source": [
    "# 加载模型"
   ]
  },
  {
   "cell_type": "code",
   "execution_count": null,
   "metadata": {},
   "outputs": [],
   "source": [
    "save_dir = \"data/model/lstm_model.pth\"\n",
    "model_data = torch.load(save_dir)\n",
    "\n",
    "model = LSTMPredictor(input_size=10, hidden_size=64, num_layers=1, output_size=ports)\n",
    "model.load_state_dict(model_data[\"model_state_dict\"])\n",
    "model.eval()\n",
    "\n",
    "radius_matrix = model_data[\"radius_matrix\"]\n",
    "\n",
    "simulator = FDTDSimulator(radius_matrix=radius_matrix)\n",
    "\n",
    "device = torch.device(\"cuda\" if torch.cuda.is_available() else \"cpu\")\n",
    "model = model.to(device)\n",
    "\n",
    "criterion = nn.MSELoss()\n"
   ]
  },
  {
   "cell_type": "markdown",
   "metadata": {},
   "source": [
    "# 加载数据集"
   ]
  },
  {
   "cell_type": "code",
   "execution_count": null,
   "metadata": {},
   "outputs": [],
   "source": [
    "class FDTDDataset(Dataset):\n",
    "    def __init__(self, data, labels):\n",
    "        self.data = torch.FloatTensor(data)\n",
    "        self.labels = torch.FloatTensor(labels)\n",
    "\n",
    "    def __len__(self):\n",
    "        return len(self.data)\n",
    "\n",
    "    def __getitem__(self, idx):\n",
    "        return self.data[idx], self.labels[idx]\n",
    "\n",
    "\n",
    "train_data, train_labels, test_data, test_labels = load_core_set_data()\n",
    "\n",
    "train_dataset = FDTDDataset(train_data, train_labels)\n",
    "test_dataset = FDTDDataset(test_data, test_labels)\n",
    "\n",
    "train_loader = DataLoader(train_dataset, batch_size=32, shuffle=True)\n",
    "test_loader = DataLoader(test_dataset, batch_size=32, shuffle=False)\n"
   ]
  },
  {
   "cell_type": "code",
   "execution_count": null,
   "metadata": {},
   "outputs": [],
   "source": [
    "with torch.no_grad():\n",
    "    for inputs, _ in test_loader:\n",
    "        inputs = inputs.to(device)\n",
    "        _, pred_seq = model.get_sequence_output(inputs)\n",
    "        target_seq = simulator(inputs)\n",
    "        loss = criterion(pred_seq, target_seq)\n",
    "        print(f\"Loss: {loss.item()}\")\n",
    "\n"
   ]
  }
 ],
 "metadata": {
  "language_info": {
   "name": "python"
  }
 },
 "nbformat": 4,
 "nbformat_minor": 2
}
