{
 "cells": [
  {
   "cell_type": "code",
   "id": "initial_id",
   "metadata": {
    "collapsed": true,
    "ExecuteTime": {
     "end_time": "2024-10-06T07:59:07.649196Z",
     "start_time": "2024-10-06T07:59:04.189156Z"
    }
   },
   "source": [
    "import torch\n",
    "import torch.nn as nn\n",
    "import torch.optim as optim\n",
    "from dataset import pca_data_loader\n",
    "from tqdm import tqdm"
   ],
   "outputs": [],
   "execution_count": 1
  },
  {
   "metadata": {
    "ExecuteTime": {
     "end_time": "2024-10-06T07:59:08.118241Z",
     "start_time": "2024-10-06T07:59:07.654205Z"
    }
   },
   "cell_type": "code",
   "source": [
    "# 加载数据\n",
    "train_loader, test_loader = pca_data_loader()\n",
    "\n",
    "# 设置设备（如果有 GPU 可用则使用 GPU）\n",
    "device = torch.device(\"cuda:0\" if torch.cuda.is_available() else \"cpu\")"
   ],
   "id": "a5beb8c1d2f5d22e",
   "outputs": [],
   "execution_count": 2
  },
  {
   "metadata": {
    "ExecuteTime": {
     "end_time": "2024-10-06T07:59:08.200885Z",
     "start_time": "2024-10-06T07:59:08.192653Z"
    }
   },
   "cell_type": "code",
   "source": [
    "# 定义 ResNet 模块\n",
    "class ResidualBlock(nn.Module):\n",
    "    def __init__(self, in_features):\n",
    "        super(ResidualBlock, self).__init__()\n",
    "        self.block = nn.Sequential(\n",
    "            nn.Linear(in_features, in_features),\n",
    "            nn.ReLU(),\n",
    "            nn.Linear(in_features, in_features)\n",
    "        )\n",
    "\n",
    "    def forward(self, x):\n",
    "        return x + self.block(x)\n",
    "\n",
    "# 定义 ResNet 模型（适用于 MLP 架构）\n",
    "class CustomResNet(nn.Module):\n",
    "    def __init__(self, input_size=10, hidden_layers=[50, 50], output_size=10):\n",
    "        super(CustomResNet, self).__init__()\n",
    "        layers = []\n",
    "        in_features = input_size\n",
    "        \n",
    "        # 添加隐藏层和残差块\n",
    "        for hidden_units in hidden_layers:\n",
    "            layers.append(nn.Linear(in_features, hidden_units))\n",
    "            layers.append(nn.ReLU())\n",
    "            layers.append(ResidualBlock(hidden_units))  # 添加残差块\n",
    "            in_features = hidden_units\n",
    "        \n",
    "        # 添加输出层\n",
    "        layers.append(nn.Linear(in_features, output_size))\n",
    "        \n",
    "        self.network = nn.Sequential(*layers)\n",
    "\n",
    "    def forward(self, x):\n",
    "        return self.network(x)"
   ],
   "id": "696b4070d7f19d59",
   "outputs": [],
   "execution_count": 3
  },
  {
   "metadata": {
    "ExecuteTime": {
     "end_time": "2024-10-06T07:59:08.300068Z",
     "start_time": "2024-10-06T07:59:08.210974Z"
    }
   },
   "cell_type": "code",
   "source": [
    "# 初始化模型、损失函数和优化器\n",
    "hidden_layers = [100, 50, 25, 10, 20, 40]  # 可以根据需要调整隐藏层数量和每层的节点数\n",
    "model = CustomResNet(input_size=10, hidden_layers=hidden_layers, output_size=10).to(device)\n",
    "criterion = nn.CrossEntropyLoss()\n",
    "optimizer = optim.Adam(model.parameters(), lr=0.001)"
   ],
   "id": "c339b5d50c68fe43",
   "outputs": [],
   "execution_count": 4
  },
  {
   "metadata": {
    "ExecuteTime": {
     "end_time": "2024-10-06T08:00:25.262996Z",
     "start_time": "2024-10-06T07:59:08.309483Z"
    }
   },
   "cell_type": "code",
   "source": [
    "# 训练模型\n",
    "epochs = 10\n",
    "with tqdm(total=epochs * len(train_loader), desc=\"Training Progress\", unit='batch') as pbar:\n",
    "    for epoch in range(epochs):\n",
    "        model.train()\n",
    "        running_loss = 0.0\n",
    "        for inputs, labels in train_loader:\n",
    "            inputs, labels = inputs.to(device), labels.to(device)\n",
    "\n",
    "            # 前向传播\n",
    "            outputs = model(inputs)\n",
    "            loss = criterion(outputs, labels)\n",
    "\n",
    "            # 反向传播和优化\n",
    "            optimizer.zero_grad()\n",
    "            loss.backward()\n",
    "            optimizer.step()\n",
    "\n",
    "            running_loss += loss.item()\n",
    "            pbar.update(1)\n",
    "            pbar.set_postfix(loss=running_loss / len(train_loader))"
   ],
   "id": "1d83eda39c03d7d",
   "outputs": [
    {
     "name": "stderr",
     "output_type": "stream",
     "text": [
      "Training Progress: 100%|██████████| 9380/9380 [01:16<00:00, 121.91batch/s, loss=0.279]   \n"
     ]
    }
   ],
   "execution_count": 5
  },
  {
   "metadata": {
    "ExecuteTime": {
     "end_time": "2024-10-06T08:00:30.875424Z",
     "start_time": "2024-10-06T08:00:30.503386Z"
    }
   },
   "cell_type": "code",
   "source": [
    "# 在测试集上评估模型\n",
    "model.eval()\n",
    "correct = 0\n",
    "total = 0\n",
    "with torch.no_grad():\n",
    "    for inputs, labels in test_loader:\n",
    "        inputs, labels = inputs.to(device), labels.to(device)\n",
    "        outputs = model(inputs)\n",
    "        _, predicted = torch.max(outputs, 1)\n",
    "        total += labels.size(0)\n",
    "        correct += (predicted == labels).sum().item()\n",
    "\n",
    "accuracy = 100 * correct / total\n",
    "print(f\"Test Accuracy: {accuracy:.2f}%\")"
   ],
   "id": "7668d1c3ae6b0aa0",
   "outputs": [
    {
     "name": "stdout",
     "output_type": "stream",
     "text": [
      "Test Accuracy: 91.28%\n"
     ]
    }
   ],
   "execution_count": 6
  }
 ],
 "metadata": {
  "kernelspec": {
   "display_name": "Python 3",
   "language": "python",
   "name": "python3"
  },
  "language_info": {
   "codemirror_mode": {
    "name": "ipython",
    "version": 2
   },
   "file_extension": ".py",
   "mimetype": "text/x-python",
   "name": "python",
   "nbconvert_exporter": "python",
   "pygments_lexer": "ipython2",
   "version": "2.7.6"
  }
 },
 "nbformat": 4,
 "nbformat_minor": 5
}
