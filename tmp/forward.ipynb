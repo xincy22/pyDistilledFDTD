{
 "cells": [
  {
   "cell_type": "code",
   "id": "initial_id",
   "metadata": {
    "collapsed": true,
    "ExecuteTime": {
     "end_time": "2024-10-07T01:22:02.475054Z",
     "start_time": "2024-10-07T01:21:51.106431Z"
    }
   },
   "source": [
    "import fdtd as oNN\n",
    "import config as cfg\n",
    "import torch\n",
    "import numpy as np\n",
    "from dataset import core_data_loader"
   ],
   "outputs": [],
   "execution_count": 1
  },
  {
   "metadata": {
    "ExecuteTime": {
     "end_time": "2024-10-07T01:22:02.495991Z",
     "start_time": "2024-10-07T01:22:02.488059Z"
    }
   },
   "cell_type": "code",
   "source": [
    "def Init():\n",
    "    oNN.set_backend(cfg.backend)\n",
    "    \n",
    "    grid = oNN.Grid(\n",
    "        shape = (cfg.Nx, cfg.Ny, 1),\n",
    "        grid_spacing=cfg.dx,\n",
    "        permittivity=1.0\n",
    "    )\n",
    "    \n",
    "    grid[0:10, :, :] = oNN.PML(name=\"pml_xlow\")\n",
    "    grid[-10:, :, :] = oNN.PML(name=\"pml_xhigh\")\n",
    "    grid[:, 0:10, :] = oNN.PML(name=\"pml_ylow\")\n",
    "    grid[:, -10:, :] = oNN.PML(name=\"pml_yhigh\")\n",
    "    \n",
    "    for i in range(cfg.ports):\n",
    "        grid[0:cfg.source_loc, cfg.ports_slice[i], 0] = oNN.Object(\n",
    "            permittivity=2.8 * torch.ones([cfg.source_loc, cfg.port_width, 1]), name=f\"wg{i}\"\n",
    "        )\n",
    "        grid[cfg.detector_loc:, cfg.ports_slice[i], 0] = oNN.Object(\n",
    "            permittivity=2.8 * torch.ones([cfg.Nx - cfg.detector_loc, cfg.port_width, 1]), name=f\"op{i}\"\n",
    "        )\n",
    "        grid[cfg.detector_loc, cfg.ports_slice[i], 0] = oNN.LineDetector(\n",
    "            name=f\"detector{i}\"\n",
    "        )\n",
    "    return grid"
   ],
   "id": "d8b2b6ff77e83f03",
   "outputs": [],
   "execution_count": 2
  },
  {
   "metadata": {
    "ExecuteTime": {
     "end_time": "2024-10-07T01:22:02.506507Z",
     "start_time": "2024-10-07T01:22:02.502002Z"
    }
   },
   "cell_type": "code",
   "source": [
    "def set_source(grid, source):\n",
    "    for i in range(cfg.ports):\n",
    "        grid[cfg.source_loc, cfg.ports_slice[i], 0] = oNN.LineSource(\n",
    "            period=cfg.WAVELENGTH / cfg.SPEED_LIGHT, phase_shift=source[i] * torch.pi, name=f\"source{i}\"\n",
    "        )\n",
    "    return grid"
   ],
   "id": "b3e838e4bcdf724d",
   "outputs": [],
   "execution_count": 3
  },
  {
   "metadata": {
    "ExecuteTime": {
     "end_time": "2024-10-07T01:22:02.518805Z",
     "start_time": "2024-10-07T01:22:02.513520Z"
    }
   },
   "cell_type": "code",
   "source": [
    "def set_permittivity(grid, radius_matrix: np.ndarray):\n",
    "    \n",
    "    radius_matrix[radius_matrix < 0.3] = 0\n",
    "    radius_matrix = torch.tensor(radius_matrix * 10)\n",
    "    print(radius_matrix)\n",
    "    \n",
    "    x, y = torch.meshgrid(torch.arange(cfg.center_size), torch.arange(cfg.center_size), indexing='ij')\n",
    "    \n",
    "    outside_circle = torch.ones((cfg.center_size, cfg.center_size), dtype=torch.int)\n",
    "    \n",
    "    for cx, cy, radius in zip(cfg.x_centers, cfg.y_centers, radius_matrix.flatten()):\n",
    "        mask = (x - cx) ** 2 + (y - cy) ** 2 <= radius ** 2\n",
    "        outside_circle[mask] = 0\n",
    "        \n",
    "    permittivity = outside_circle.view(cfg.center_size, cfg.center_size, 1).float()\n",
    "    grid[cfg.center_slice, cfg.center_slice, 0] = oNN.Object(\n",
    "        permittivity=permittivity * 1.8 + 1, name=\"core\"\n",
    "    )\n",
    "    return grid"
   ],
   "id": "26fd78a3c966825b",
   "outputs": [],
   "execution_count": 4
  },
  {
   "metadata": {},
   "cell_type": "markdown",
   "source": [
    "`detectors[index].detector_values()`返回一个字典，包含两个键：`E`和`H`。\n",
    "\n",
    "每个键下有一个长度为`timesteps`的列表，列表的元素是一个`torch.Tensor`，为对应的电场或磁场值。\n",
    "\n",
    "该`torch.Tensor`的`shape`为`(len, 3)`。`len`为`LineDetector`中点的个数，`3`代表三个方向的分量。"
   ],
   "id": "56f06d97843ca5dc"
  },
  {
   "metadata": {
    "ExecuteTime": {
     "end_time": "2024-10-07T01:25:18.599471Z",
     "start_time": "2024-10-07T01:24:46.723739Z"
    }
   },
   "cell_type": "code",
   "source": [
    "train_loader, test_loader = core_data_loader(batch_size=1)\n",
    "\n",
    "radius_matrix = np.random.rand(10, 10)\n",
    "\n",
    "it = 0\n",
    "for data, labels in train_loader:\n",
    "    silicon_plane = Init()\n",
    "    silicon_plane = set_source(silicon_plane, data[0])\n",
    "    silicon_plane = set_permittivity(silicon_plane, radius_matrix)\n",
    "    silicon_plane.run(cfg.time_step)\n",
    "    # silicon_plane.visualize(z=0)\n",
    "    output = torch.tensor([], device=cfg.device)\n",
    "    output2 = []\n",
    "    for i in range(cfg.ports): # Ez的值作为输出，空间上取平均，时间上取和\n",
    "        detector_values_E = torch.stack(silicon_plane.detectors[i].detector_values()[\"E\"], dim=0)\n",
    "        output = torch.cat([output, torch.mean(detector_values_E[:,:,-1]**2, dim=1).sum(dim=0).unsqueeze(-1)])\n",
    "        output2.append(torch.mean(detector_values_E[:,:,-1]**2, dim=1).sum(dim=0))\n",
    "    print(output)\n",
    "    print(output2)\n",
    "    break\n",
    "        \n",
    "    it += 1\n",
    "    if it == 30:\n",
    "        break"
   ],
   "id": "a3a76a65b3f91bf5",
   "outputs": [
    {
     "name": "stdout",
     "output_type": "stream",
     "text": [
      "Loading core data from F:\\pyDistilledFDTD\\dataset\\.cache\\core\\greedy\\pca-components-10\\batch-size-1-eta-0.1.pkl\n",
      "tensor([[9.2065, 7.3481, 9.2641, 0.0000, 5.4973, 0.0000, 0.0000, 7.4209, 7.4498,\n",
      "         3.9711],\n",
      "        [5.6725, 8.9796, 8.9534, 0.0000, 3.1007, 4.1009, 3.2809, 5.2186, 8.7539,\n",
      "         0.0000],\n",
      "        [7.5517, 6.6108, 4.6681, 4.7567, 8.5025, 3.3377, 0.0000, 8.9678, 6.1591,\n",
      "         0.0000],\n",
      "        [0.0000, 0.0000, 5.5745, 9.4741, 9.8627, 7.0700, 4.5575, 8.3655, 5.0552,\n",
      "         0.0000],\n",
      "        [4.7466, 3.8091, 0.0000, 0.0000, 0.0000, 4.5726, 0.0000, 9.1127, 3.3550,\n",
      "         4.8871],\n",
      "        [0.0000, 7.5348, 8.9828, 5.6578, 3.7893, 3.4213, 0.0000, 7.9684, 3.8677,\n",
      "         8.9160],\n",
      "        [5.4274, 5.7888, 8.4553, 0.0000, 6.6821, 8.3068, 5.9357, 0.0000, 3.5334,\n",
      "         7.9497],\n",
      "        [7.4626, 6.4905, 6.3554, 0.0000, 9.6978, 4.4577, 0.0000, 0.0000, 8.3626,\n",
      "         0.0000],\n",
      "        [0.0000, 0.0000, 7.4952, 8.5561, 8.2479, 4.0859, 9.9229, 9.5999, 7.3201,\n",
      "         5.4796],\n",
      "        [6.6020, 5.8606, 9.8706, 0.0000, 9.6233, 0.0000, 0.0000, 7.2717, 3.0743,\n",
      "         9.2372]])\n"
     ]
    },
    {
     "name": "stderr",
     "output_type": "stream",
     "text": [
      "100%|██████████| 1500/1500 [00:31<00:00, 47.26it/s]\n"
     ]
    },
    {
     "name": "stdout",
     "output_type": "stream",
     "text": [
      "tensor([0.5171, 0.3330, 0.1644, 0.6797, 0.3052, 0.2757, 0.2223, 0.1845, 0.5338,\n",
      "        0.3501], device='cuda:0')\n",
      "[tensor(0.5171, device='cuda:0'), tensor(0.3330, device='cuda:0'), tensor(0.1644, device='cuda:0'), tensor(0.6797, device='cuda:0'), tensor(0.3052, device='cuda:0'), tensor(0.2757, device='cuda:0'), tensor(0.2223, device='cuda:0'), tensor(0.1845, device='cuda:0'), tensor(0.5338, device='cuda:0'), tensor(0.3501, device='cuda:0')]\n"
     ]
    }
   ],
   "execution_count": 7
  }
 ],
 "metadata": {
  "kernelspec": {
   "display_name": "Python 3",
   "language": "python",
   "name": "python3"
  },
  "language_info": {
   "codemirror_mode": {
    "name": "ipython",
    "version": 2
   },
   "file_extension": ".py",
   "mimetype": "text/x-python",
   "name": "python",
   "nbconvert_exporter": "python",
   "pygments_lexer": "ipython2",
   "version": "2.7.6"
  }
 },
 "nbformat": 4,
 "nbformat_minor": 5
}
