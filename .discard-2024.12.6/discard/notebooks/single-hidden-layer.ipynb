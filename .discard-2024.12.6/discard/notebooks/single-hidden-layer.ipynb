{
 "cells": [
  {
   "cell_type": "code",
   "id": "initial_id",
   "metadata": {
    "collapsed": true,
    "ExecuteTime": {
     "end_time": "2024-10-06T07:38:52.042168Z",
     "start_time": "2024-10-06T07:38:48.771191Z"
    }
   },
   "source": [
    "import torch\n",
    "import torch.nn as nn\n",
    "import torch.optim as optim\n",
    "from dataset import pca_data_loader\n",
    "from tqdm import tqdm"
   ],
   "outputs": [],
   "execution_count": 1
  },
  {
   "metadata": {
    "ExecuteTime": {
     "end_time": "2024-10-06T07:38:52.484954Z",
     "start_time": "2024-10-06T07:38:52.046173Z"
    }
   },
   "cell_type": "code",
   "source": [
    "# 加载数据\n",
    "train_loader, test_loader = pca_data_loader()\n",
    "\n",
    "# 设置设备（如果有 GPU 可用则使用 GPU）\n",
    "device = torch.device(\"cuda:0\" if torch.cuda.is_available() else \"cpu\")"
   ],
   "id": "e1a4a58236299b1",
   "outputs": [],
   "execution_count": 2
  },
  {
   "metadata": {
    "ExecuteTime": {
     "end_time": "2024-10-06T07:38:52.565462Z",
     "start_time": "2024-10-06T07:38:52.560448Z"
    }
   },
   "cell_type": "code",
   "source": [
    "# 定义模型（两层全连接层：10 输入，n 隐藏单元，10 输出）\n",
    "class SimpleMLPWithHidden(nn.Module):\n",
    "    def __init__(self, hidden_units=50):\n",
    "        super(SimpleMLPWithHidden, self).__init__()\n",
    "        self.fc1 = nn.Linear(10, hidden_units)\n",
    "        self.fc2 = nn.Linear(hidden_units, 10)\n",
    "\n",
    "    def forward(self, x):\n",
    "        x = torch.relu(self.fc1(x))\n",
    "        x = self.fc2(x)\n",
    "        return x"
   ],
   "id": "76fffabadaf27b3b",
   "outputs": [],
   "execution_count": 3
  },
  {
   "metadata": {
    "ExecuteTime": {
     "end_time": "2024-10-06T07:38:52.649630Z",
     "start_time": "2024-10-06T07:38:52.574819Z"
    }
   },
   "cell_type": "code",
   "source": [
    "# 初始化模型、损失函数和优化器\n",
    "hidden_units = 50  # 隐藏层单元数量，可根据需要调整\n",
    "model = SimpleMLPWithHidden(hidden_units).to(device)\n",
    "criterion = nn.CrossEntropyLoss()\n",
    "optimizer = optim.Adam(model.parameters(), lr=0.001)"
   ],
   "id": "5aa7e7499f05589b",
   "outputs": [],
   "execution_count": 4
  },
  {
   "metadata": {
    "ExecuteTime": {
     "end_time": "2024-10-06T07:39:12.703371Z",
     "start_time": "2024-10-06T07:38:52.658265Z"
    }
   },
   "cell_type": "code",
   "source": [
    "# 训练模型\n",
    "epochs = 10\n",
    "with tqdm(total=epochs * len(train_loader), desc=\"Training Progress\", unit='batch') as pbar:\n",
    "    for epoch in range(epochs):\n",
    "        model.train()\n",
    "        running_loss = 0.0\n",
    "        for inputs, labels in train_loader:\n",
    "            inputs, labels = inputs.to(device), labels.to(device)\n",
    "\n",
    "            # 前向传播\n",
    "            outputs = model(inputs)\n",
    "            loss = criterion(outputs, labels)\n",
    "\n",
    "            # 反向传播和优化\n",
    "            optimizer.zero_grad()\n",
    "            loss.backward()\n",
    "            optimizer.step()\n",
    "\n",
    "            running_loss += loss.item()\n",
    "            pbar.update(1)"
   ],
   "id": "7fae64fcaae88928",
   "outputs": [
    {
     "name": "stderr",
     "output_type": "stream",
     "text": [
      "Training Progress: 100%|██████████| 9380/9380 [00:20<00:00, 468.16batch/s]\n"
     ]
    }
   ],
   "execution_count": 5
  },
  {
   "metadata": {
    "ExecuteTime": {
     "end_time": "2024-10-06T07:39:13.040373Z",
     "start_time": "2024-10-06T07:39:12.849930Z"
    }
   },
   "cell_type": "code",
   "source": [
    "# 在测试集上评估模型\n",
    "model.eval()\n",
    "correct = 0\n",
    "total = 0\n",
    "with torch.no_grad():\n",
    "    for inputs, labels in test_loader:\n",
    "        inputs, labels = inputs.to(device), labels.to(device)\n",
    "        outputs = model(inputs)\n",
    "        _, predicted = torch.max(outputs, 1)\n",
    "        total += labels.size(0)\n",
    "        correct += (predicted == labels).sum().item()\n",
    "\n",
    "accuracy = 100 * correct / total\n",
    "print(f\"Test Accuracy: {accuracy:.2f}%\")"
   ],
   "id": "af9a08cba3972ba6",
   "outputs": [
    {
     "name": "stdout",
     "output_type": "stream",
     "text": [
      "Test Accuracy: 80.50%\n"
     ]
    }
   ],
   "execution_count": 6
  }
 ],
 "metadata": {
  "kernelspec": {
   "display_name": "Python 3",
   "language": "python",
   "name": "python3"
  },
  "language_info": {
   "codemirror_mode": {
    "name": "ipython",
    "version": 2
   },
   "file_extension": ".py",
   "mimetype": "text/x-python",
   "name": "python",
   "nbconvert_exporter": "python",
   "pygments_lexer": "ipython2",
   "version": "2.7.6"
  }
 },
 "nbformat": 4,
 "nbformat_minor": 5
}
