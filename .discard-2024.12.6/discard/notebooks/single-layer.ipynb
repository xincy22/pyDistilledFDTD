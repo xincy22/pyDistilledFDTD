{
 "cells": [
  {
   "cell_type": "code",
   "id": "initial_id",
   "metadata": {
    "collapsed": true,
    "ExecuteTime": {
     "end_time": "2024-10-06T08:11:45.591806Z",
     "start_time": "2024-10-06T08:11:42.487729Z"
    }
   },
   "source": [
    "import torch\n",
    "import torch.nn as nn\n",
    "import torch.optim as optim\n",
    "from dataset import pca_data_loader\n",
    "from tqdm import tqdm"
   ],
   "outputs": [],
   "execution_count": 2
  },
  {
   "metadata": {
    "ExecuteTime": {
     "end_time": "2024-10-06T08:11:46.099406Z",
     "start_time": "2024-10-06T08:11:45.654059Z"
    }
   },
   "cell_type": "code",
   "source": [
    "# 加载数据\n",
    "train_loader, test_loader = pca_data_loader()\n",
    "\n",
    "# 设置设备（如果有 GPU 可用则使用 GPU）\n",
    "device = torch.device(\"cuda:0\" if torch.cuda.is_available() else \"cpu\")"
   ],
   "id": "2c37fc50aa882a66",
   "outputs": [],
   "execution_count": 3
  },
  {
   "metadata": {
    "ExecuteTime": {
     "end_time": "2024-10-06T08:11:46.120506Z",
     "start_time": "2024-10-06T08:11:46.115414Z"
    }
   },
   "cell_type": "code",
   "source": [
    "# 定义模型（全连接层：10 输入，10 输出）\n",
    "class SimpleMLP(nn.Module):\n",
    "    def __init__(self):\n",
    "        super(SimpleMLP, self).__init__()\n",
    "        self.fc = nn.Linear(10, 10)\n",
    "\n",
    "    def forward(self, x):\n",
    "        return self.fc(x)"
   ],
   "id": "a364e6f225206560",
   "outputs": [],
   "execution_count": 4
  },
  {
   "metadata": {
    "ExecuteTime": {
     "end_time": "2024-10-06T08:11:46.205248Z",
     "start_time": "2024-10-06T08:11:46.129351Z"
    }
   },
   "cell_type": "code",
   "source": [
    "# 初始化模型、损失函数和优化器\n",
    "model = SimpleMLP().to(device)\n",
    "criterion = nn.CrossEntropyLoss()\n",
    "optimizer = optim.Adam(model.parameters(), lr=0.001)"
   ],
   "id": "bd4e6aa3bd7162ee",
   "outputs": [],
   "execution_count": 5
  },
  {
   "metadata": {
    "ExecuteTime": {
     "end_time": "2024-10-06T08:11:58.986396Z",
     "start_time": "2024-10-06T08:11:46.214113Z"
    }
   },
   "cell_type": "code",
   "source": [
    "# 训练模型\n",
    "epochs = 10\n",
    "with tqdm(total=epochs * len(train_loader), desc=\"Training Progress\", unit='batch') as pbar:\n",
    "    for epoch in range(epochs):\n",
    "        model.train()\n",
    "        running_loss = 0.0\n",
    "        for inputs, labels in train_loader:\n",
    "            inputs, labels = inputs.to(device), labels.to(device)\n",
    "\n",
    "            # 前向传播\n",
    "            outputs = model(inputs)\n",
    "            loss = criterion(outputs, labels)\n",
    "\n",
    "            # 反向传播和优化\n",
    "            optimizer.zero_grad()\n",
    "            loss.backward()\n",
    "            optimizer.step()\n",
    "\n",
    "            running_loss += loss.item()\n",
    "            pbar.update(1)\n"
   ],
   "id": "3af280260e7ae392",
   "outputs": [
    {
     "name": "stderr",
     "output_type": "stream",
     "text": [
      "Training Progress: 100%|██████████| 9380/9380 [00:12<00:00, 735.01batch/s]\n"
     ]
    }
   ],
   "execution_count": 6
  },
  {
   "metadata": {
    "ExecuteTime": {
     "end_time": "2024-10-06T08:11:59.218250Z",
     "start_time": "2024-10-06T08:11:59.091946Z"
    }
   },
   "cell_type": "code",
   "source": [
    "# 在测试集上评估模型\n",
    "model.eval()\n",
    "correct = 0\n",
    "total = 0\n",
    "with torch.no_grad():\n",
    "    for inputs, labels in test_loader:\n",
    "        inputs, labels = inputs.to(device), labels.to(device)\n",
    "        outputs = model(inputs)\n",
    "        _, predicted = torch.max(outputs, 1)\n",
    "        total += labels.size(0)\n",
    "        correct += (predicted == labels).sum().item()\n",
    "\n",
    "accuracy = 100 * correct / total\n",
    "print(f\"Test Accuracy: {accuracy:.2f}%\")"
   ],
   "id": "da920f81676bb27f",
   "outputs": [
    {
     "name": "stdout",
     "output_type": "stream",
     "text": [
      "Test Accuracy: 74.50%\n"
     ]
    }
   ],
   "execution_count": 7
  }
 ],
 "metadata": {
  "kernelspec": {
   "display_name": "Python 3",
   "language": "python",
   "name": "python3"
  },
  "language_info": {
   "codemirror_mode": {
    "name": "ipython",
    "version": 2
   },
   "file_extension": ".py",
   "mimetype": "text/x-python",
   "name": "python",
   "nbconvert_exporter": "python",
   "pygments_lexer": "ipython2",
   "version": "2.7.6"
  }
 },
 "nbformat": 4,
 "nbformat_minor": 5
}
