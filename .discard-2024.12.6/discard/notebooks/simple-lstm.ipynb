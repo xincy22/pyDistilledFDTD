{
 "cells": [
  {
   "cell_type": "code",
   "id": "initial_id",
   "metadata": {
    "collapsed": true,
    "ExecuteTime": {
     "end_time": "2024-10-11T13:52:58.059607Z",
     "start_time": "2024-10-11T13:52:54.648752Z"
    }
   },
   "source": [
    "import torch\n",
    "import torch.nn as nn\n",
    "import torch.optim as optim\n",
    "from src.dataset import pca_data_loader\n",
    "from tqdm import tqdm"
   ],
   "outputs": [],
   "execution_count": 1
  },
  {
   "metadata": {
    "ExecuteTime": {
     "end_time": "2024-10-11T13:52:58.102075Z",
     "start_time": "2024-10-11T13:52:58.065672Z"
    }
   },
   "cell_type": "code",
   "source": [
    "# 加载数据\n",
    "train_loader, test_loader = pca_data_loader()\n",
    "\n",
    "# 设置设备（如果有 GPU 可用则使用 GPU）\n",
    "device = torch.device(\"cuda:0\" if torch.cuda.is_available() else \"cpu\")"
   ],
   "id": "7e1b87f13ec31bed",
   "outputs": [
    {
     "name": "stdout",
     "output_type": "stream",
     "text": [
      "Loading PCA data from F:\\pyDistilledFDTD\\dataset\\.cache\\pca\\pca-components-10\\batch-size-64.pkl\n"
     ]
    }
   ],
   "execution_count": 2
  },
  {
   "metadata": {
    "ExecuteTime": {
     "end_time": "2024-10-11T13:52:58.181111Z",
     "start_time": "2024-10-11T13:52:58.168489Z"
    }
   },
   "cell_type": "code",
   "source": [
    "# 定义LSTM模型\n",
    "class CustomLSTM(nn.Module):\n",
    "    def __init__(self, input_size=10, hidden_size=50, num_layers=2, output_size=10):\n",
    "        super(CustomLSTM, self).__init__()\n",
    "        self.hidden_size = hidden_size\n",
    "        self.num_layers = num_layers\n",
    "        \n",
    "        # 定义LSTM层\n",
    "        self.lstm = nn.LSTM(input_size, hidden_size, num_layers, batch_first=True)\n",
    "        \n",
    "        # 定义全连接层，将LSTM的输出转换为最终的分类输出\n",
    "        self.fc = nn.Linear(hidden_size, output_size)\n",
    "\n",
    "    def forward(self, x):\n",
    "        # 初始化LSTM的隐藏状态和细胞状态\n",
    "        h0 = torch.zeros(self.num_layers, x.size(0), self.hidden_size).to(device).double()\n",
    "        c0 = torch.zeros(self.num_layers, x.size(0), self.hidden_size).to(device).double()\n",
    "\n",
    "        # LSTM前向传播\n",
    "        out, _ = self.lstm(x, (h0, c0))\n",
    "        \n",
    "        # 取最后一个时间步的输出\n",
    "        out = out.mean(dim=1)\n",
    "        \n",
    "        # 全连接层\n",
    "        out = self.fc(out)\n",
    "        return out"
   ],
   "id": "1b3fa2b5c64834b2",
   "outputs": [],
   "execution_count": 3
  },
  {
   "metadata": {
    "ExecuteTime": {
     "end_time": "2024-10-11T13:52:58.199769Z",
     "start_time": "2024-10-11T13:52:58.192254Z"
    }
   },
   "cell_type": "code",
   "source": [
    "# 使用扩展函数处理数据\n",
    "def data_expand(data, time_step=20, method=\"repeat\"):\n",
    "    \"\"\"\n",
    "    将数据扩展到指定的时间步长。\n",
    "    \"\"\"\n",
    "    if method == \"repeat\":\n",
    "        return data.unsqueeze(1).expand(-1, time_step, -1)\n",
    "    elif method == \"gaussian\":\n",
    "        mean = (time_step - 1) / 2.0\n",
    "        std_dev = (time_step - 1) / 6.0\n",
    "\n",
    "        t = torch.arange(time_step, device=data.device, dtype=data.dtype)\n",
    "\n",
    "        gaussian_curve = torch.exp(-((t - mean) ** 2) / (2 * std_dev ** 2))\n",
    "        gaussian_curve = gaussian_curve / gaussian_curve.sum()  # Shape: (time_step,)\n",
    "        expanded_value = gaussian_curve.view(1, -1, 1) * data.unsqueeze(1)  # Shape: (batch_size, time_step, ports)\n",
    "        return expanded_value\n",
    "    elif method == \"sin\":\n",
    "        WAVELENGTH = 1  # 假设波长\n",
    "        SPEED_LIGHT = 3e8  # 假设光速\n",
    "\n",
    "        period = WAVELENGTH / SPEED_LIGHT  # Calculate the period\n",
    "        omega = 2 * torch.pi / period      # Angular frequency\n",
    "\n",
    "        t = torch.arange(time_step, device=data.device, dtype=data.dtype).view(1, time_step, 1)  # Shape: (1, time_step, 1)\n",
    "        phase_shift = data * torch.pi  # Scale data to range [0, π], Shape: (batch_size, ports)\n",
    "        phase_shift = phase_shift.unsqueeze(1)  # Shape: (batch_size, 1, ports)\n",
    "\n",
    "        sin_wave = torch.sin(omega * t + phase_shift)  # Shape: (batch_size, time_step, ports)\n",
    "        return sin_wave\n",
    "    else:\n",
    "        raise ValueError(\"Invalid method\")"
   ],
   "id": "a2879e6e0ef955fd",
   "outputs": [],
   "execution_count": 4
  },
  {
   "metadata": {
    "ExecuteTime": {
     "end_time": "2024-10-11T13:52:58.308485Z",
     "start_time": "2024-10-11T13:52:58.206422Z"
    }
   },
   "cell_type": "code",
   "source": [
    "# 初始化模型、损失函数和优化器\n",
    "model = CustomLSTM(input_size=10, hidden_size=50, num_layers=5, output_size=10).to(device).double()\n",
    "criterion = nn.CrossEntropyLoss()\n",
    "optimizer = optim.Adam(model.parameters(), lr=0.001)"
   ],
   "id": "a28580ebdc939f54",
   "outputs": [],
   "execution_count": 5
  },
  {
   "metadata": {
    "ExecuteTime": {
     "end_time": "2024-10-11T13:56:06.016865Z",
     "start_time": "2024-10-11T13:52:58.314926Z"
    }
   },
   "cell_type": "code",
   "source": [
    "# 训练模型\n",
    "epochs = 10\n",
    "with tqdm(total=epochs * len(train_loader), desc=\"Training Progress\", unit='batch') as pbar:\n",
    "    for epoch in range(epochs):\n",
    "        model.train()\n",
    "        running_loss = 0.0\n",
    "        for inputs, labels in train_loader:\n",
    "            inputs, labels = inputs.to(device), labels.to(device)\n",
    "\n",
    "            # 扩展输入数据\n",
    "            inputs = data_expand(inputs, time_step=20, method=\"repeat\")  # 使用指定方法扩展输入\n",
    "\n",
    "            # 前向传播\n",
    "            outputs = model(inputs)\n",
    "            loss = criterion(outputs, labels)\n",
    "\n",
    "            # 反向传播和优化\n",
    "            optimizer.zero_grad()\n",
    "            loss.backward()\n",
    "            optimizer.step()\n",
    "\n",
    "            running_loss += loss.item()\n",
    "            pbar.update(1)"
   ],
   "id": "7fdd01675f2bc90f",
   "outputs": [
    {
     "name": "stderr",
     "output_type": "stream",
     "text": [
      "Training Progress: 100%|██████████| 9380/9380 [03:07<00:00, 49.98batch/s]\n"
     ]
    }
   ],
   "execution_count": 6
  },
  {
   "metadata": {
    "ExecuteTime": {
     "end_time": "2024-10-11T13:56:07.599287Z",
     "start_time": "2024-10-11T13:56:06.215534Z"
    }
   },
   "cell_type": "code",
   "source": [
    "# 在测试集上评估模型\n",
    "model.eval()\n",
    "correct = 0\n",
    "total = 0\n",
    "with torch.no_grad():\n",
    "    for inputs, labels in test_loader:\n",
    "        inputs, labels = inputs.to(device), labels.to(device)\n",
    "        \n",
    "        # 扩展输入数据\n",
    "        inputs = data_expand(inputs, time_step=20, method=\"repeat\")\n",
    "\n",
    "        outputs = model(inputs)\n",
    "        _, predicted = torch.max(outputs, 1)\n",
    "        total += labels.size(0)\n",
    "        correct += (predicted == labels).sum().item()\n",
    "\n",
    "accuracy = 100 * correct / total\n",
    "print(f\"Test Accuracy: {accuracy:.2f}%\")"
   ],
   "id": "395d4411b0b01ed7",
   "outputs": [
    {
     "name": "stdout",
     "output_type": "stream",
     "text": [
      "Test Accuracy: 90.00%\n"
     ]
    }
   ],
   "execution_count": 7
  }
 ],
 "metadata": {
  "kernelspec": {
   "display_name": "Python 3",
   "language": "python",
   "name": "python3"
  },
  "language_info": {
   "codemirror_mode": {
    "name": "ipython",
    "version": 2
   },
   "file_extension": ".py",
   "mimetype": "text/x-python",
   "name": "python",
   "nbconvert_exporter": "python",
   "pygments_lexer": "ipython2",
   "version": "2.7.6"
  }
 },
 "nbformat": 4,
 "nbformat_minor": 5
}
