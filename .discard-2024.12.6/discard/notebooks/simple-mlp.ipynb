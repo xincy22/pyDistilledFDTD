{
 "cells": [
  {
   "cell_type": "code",
   "execution_count": 1,
   "id": "initial_id",
   "metadata": {
    "ExecuteTime": {
     "end_time": "2024-10-06T08:00:35.568928Z",
     "start_time": "2024-10-06T08:00:35.564853Z"
    },
    "collapsed": true
   },
   "outputs": [
    {
     "ename": "ModuleNotFoundError",
     "evalue": "No module named 'src'",
     "output_type": "error",
     "traceback": [
      "\u001b[0;31m---------------------------------------------------------------------------\u001b[0m",
      "\u001b[0;31mModuleNotFoundError\u001b[0m                       Traceback (most recent call last)",
      "Cell \u001b[0;32mIn[1], line 4\u001b[0m\n\u001b[1;32m      2\u001b[0m \u001b[38;5;28;01mimport\u001b[39;00m \u001b[38;5;21;01mtorch\u001b[39;00m\u001b[38;5;21;01m.\u001b[39;00m\u001b[38;5;21;01mnn\u001b[39;00m \u001b[38;5;28;01mas\u001b[39;00m \u001b[38;5;21;01mnn\u001b[39;00m\n\u001b[1;32m      3\u001b[0m \u001b[38;5;28;01mimport\u001b[39;00m \u001b[38;5;21;01mtorch\u001b[39;00m\u001b[38;5;21;01m.\u001b[39;00m\u001b[38;5;21;01moptim\u001b[39;00m \u001b[38;5;28;01mas\u001b[39;00m \u001b[38;5;21;01moptim\u001b[39;00m\n\u001b[0;32m----> 4\u001b[0m \u001b[38;5;28;01mfrom\u001b[39;00m \u001b[38;5;21;01msrc\u001b[39;00m\u001b[38;5;21;01m.\u001b[39;00m\u001b[38;5;21;01mdataset\u001b[39;00m \u001b[38;5;28;01mimport\u001b[39;00m pca_data_loader\n\u001b[1;32m      5\u001b[0m \u001b[38;5;28;01mfrom\u001b[39;00m \u001b[38;5;21;01mtqdm\u001b[39;00m \u001b[38;5;28;01mimport\u001b[39;00m tqdm\n",
      "\u001b[0;31mModuleNotFoundError\u001b[0m: No module named 'src'"
     ]
    }
   ],
   "source": [
    "import torch\n",
    "import torch.nn as nn\n",
    "import torch.optim as optim\n",
    "from src.dataset import pca_data_loader\n",
    "from tqdm import tqdm"
   ]
  },
  {
   "cell_type": "code",
   "execution_count": 26,
   "id": "e1a4a58236299b1",
   "metadata": {
    "ExecuteTime": {
     "end_time": "2024-10-06T08:00:36.252578Z",
     "start_time": "2024-10-06T08:00:35.595072Z"
    }
   },
   "outputs": [],
   "source": [
    "# 加载数据\n",
    "train_loader, test_loader = pca_data_loader()\n",
    "\n",
    "# 设置设备（如果有 GPU 可用则使用 GPU）\n",
    "device = torch.device(\"cuda:0\" if torch.cuda.is_available() else \"cpu\")"
   ]
  },
  {
   "cell_type": "code",
   "execution_count": 27,
   "id": "76fffabadaf27b3b",
   "metadata": {
    "ExecuteTime": {
     "end_time": "2024-10-06T08:00:36.300312Z",
     "start_time": "2024-10-06T08:00:36.292801Z"
    }
   },
   "outputs": [],
   "source": [
    "# 定义多层感知机模型（可配置层数和节点数）\n",
    "class CustomMLP(nn.Module):\n",
    "    def __init__(self, input_size=10, hidden_layers=[50, 50], output_size=10):\n",
    "        super(CustomMLP, self).__init__()\n",
    "        layers = []\n",
    "        in_features = input_size\n",
    "        \n",
    "        # 添加隐藏层\n",
    "        for hidden_units in hidden_layers:\n",
    "            layers.append(nn.Linear(in_features, hidden_units))\n",
    "            layers.append(nn.ReLU())\n",
    "            in_features = hidden_units\n",
    "        \n",
    "        # 添加输出层\n",
    "        layers.append(nn.Linear(in_features, output_size))\n",
    "        \n",
    "        self.network = nn.Sequential(*layers)\n",
    "\n",
    "    def forward(self, x):\n",
    "        return self.network(x)"
   ]
  },
  {
   "cell_type": "code",
   "execution_count": 28,
   "id": "5aa7e7499f05589b",
   "metadata": {
    "ExecuteTime": {
     "end_time": "2024-10-06T08:00:36.350158Z",
     "start_time": "2024-10-06T08:00:36.337809Z"
    }
   },
   "outputs": [],
   "source": [
    "# 初始化模型、损失函数和优化器\n",
    "hidden_layers = [200, 100, 50, 25, 10, 20, 40]  # 可以根据需要调整隐藏层数量和每层的节点数\n",
    "model = CustomMLP(input_size=10, hidden_layers=hidden_layers, output_size=10).to(device)\n",
    "criterion = nn.CrossEntropyLoss()\n",
    "optimizer = optim.Adam(model.parameters(), lr=0.001)"
   ]
  },
  {
   "cell_type": "code",
   "execution_count": 29,
   "id": "7fae64fcaae88928",
   "metadata": {
    "ExecuteTime": {
     "end_time": "2024-10-06T08:01:07.713741Z",
     "start_time": "2024-10-06T08:00:36.387876Z"
    }
   },
   "outputs": [
    {
     "name": "stderr",
     "output_type": "stream",
     "text": [
      "Training Progress: 100%|██████████| 9380/9380 [00:31<00:00, 299.53batch/s]\n"
     ]
    }
   ],
   "source": [
    "# 训练模型\n",
    "epochs = 10\n",
    "with tqdm(total=epochs * len(train_loader), desc=\"Training Progress\", unit='batch') as pbar:\n",
    "    for epoch in range(epochs):\n",
    "        model.train()\n",
    "        running_loss = 0.0\n",
    "        for inputs, labels in train_loader:\n",
    "            inputs, labels = inputs.to(device), labels.to(device)\n",
    "            print(\"inputs requires_grad:\", inputs.requires_grad)\n",
    "\n",
    "            # 前向传播\n",
    "            outputs = model(inputs)\n",
    "            loss = criterion(outputs, labels)\n",
    "\n",
    "            # 反向传播和优化\n",
    "            optimizer.zero_grad()\n",
    "            loss.backward()\n",
    "            optimizer.step()\n",
    "\n",
    "            running_loss += loss.item()\n",
    "            pbar.update(1)"
   ]
  },
  {
   "cell_type": "code",
   "execution_count": 30,
   "id": "af9a08cba3972ba6",
   "metadata": {
    "ExecuteTime": {
     "end_time": "2024-10-06T08:01:07.933810Z",
     "start_time": "2024-10-06T08:01:07.744600Z"
    }
   },
   "outputs": [
    {
     "name": "stdout",
     "output_type": "stream",
     "text": [
      "Test Accuracy: 89.58%\n"
     ]
    }
   ],
   "source": [
    "# 在测试集上评估模型\n",
    "model.eval()\n",
    "correct = 0\n",
    "total = 0\n",
    "with torch.no_grad():\n",
    "    for inputs, labels in test_loader:\n",
    "        inputs, labels = inputs.to(device), labels.to(device)\n",
    "        outputs = model(inputs)\n",
    "        _, predicted = torch.max(outputs, 1)\n",
    "        total += labels.size(0)\n",
    "        correct += (predicted == labels).sum().item()\n",
    "\n",
    "accuracy = 100 * correct / total\n",
    "print(f\"Test Accuracy: {accuracy:.2f}%\")"
   ]
  }
 ],
 "metadata": {
  "kernelspec": {
   "display_name": "Python 3",
   "language": "python",
   "name": "python3"
  },
  "language_info": {
   "codemirror_mode": {
    "name": "ipython",
    "version": 3
   },
   "file_extension": ".py",
   "mimetype": "text/x-python",
   "name": "python",
   "nbconvert_exporter": "python",
   "pygments_lexer": "ipython3",
   "version": "3.11.11"
  }
 },
 "nbformat": 4,
 "nbformat_minor": 5
}
