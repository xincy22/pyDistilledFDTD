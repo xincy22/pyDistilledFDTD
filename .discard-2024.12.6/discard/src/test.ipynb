{
 "cells": [
  {
   "metadata": {},
   "cell_type": "code",
   "outputs": [],
   "execution_count": null,
   "source": [
    "import os\n",
    "os.chdir(\"/root/pydistilledfdtd\")"
   ],
   "id": "ae43e8eccc77485e"
  },
  {
   "cell_type": "code",
   "id": "initial_id",
   "metadata": {
    "collapsed": true,
    "ExecuteTime": {
     "end_time": "2024-10-25T13:24:59.819539Z",
     "start_time": "2024-10-25T13:24:54.762595Z"
    }
   },
   "source": [
    "import torch\n",
    "import torch.nn as nn\n",
    "from src.dataset import pca_data_loader\n",
    "from src.model import DistillModel, StudentLSTMModule\n",
    "from tqdm import tqdm"
   ],
   "outputs": [],
   "execution_count": 1
  },
  {
   "metadata": {
    "ExecuteTime": {
     "end_time": "2024-10-25T13:25:00.488462Z",
     "start_time": "2024-10-25T13:24:59.824058Z"
    }
   },
   "cell_type": "code",
   "source": [
    "device = \"cuda\" if torch.cuda.is_available() else \"cpu\"\n",
    "\n",
    "# 加载模型\n",
    "load_path = \"../data/processed/param-1729437462.4108374.pth\"\n",
    "check_point = torch.load(load_path, weights_only=False)\n",
    "\n",
    "radius = check_point[\"radius\"]\n",
    "student_model = StudentLSTMModule(input_size=10, hidden_size=128, output_size=10, num_layer=2)\n",
    "student_model.load_state_dict(check_point[\"model_state_dict\"])\n",
    "model = DistillModel(radius, student_model, expand_method='sin')\n",
    "model = model.to(device)"
   ],
   "id": "c055a721f67af430",
   "outputs": [],
   "execution_count": 2
  },
  {
   "metadata": {
    "ExecuteTime": {
     "end_time": "2024-10-25T13:27:10.653330Z",
     "start_time": "2024-10-25T13:27:10.644032Z"
    }
   },
   "cell_type": "code",
   "source": [
    "# 加载数据\n",
    "_, test_loader = pca_data_loader(batch_size=64)"
   ],
   "id": "a1ebc7781cdbd6c8",
   "outputs": [
    {
     "name": "stdout",
     "output_type": "stream",
     "text": [
      "Loading PCA data from F:\\pyDistilledFDTD\\data\\cache\\pca_data_loader\\pca-components-10\\batch-size-64.pkl\n"
     ]
    }
   ],
   "execution_count": 8
  },
  {
   "metadata": {
    "ExecuteTime": {
     "end_time": "2024-10-25T13:27:13.477821Z",
     "start_time": "2024-10-25T13:27:13.464172Z"
    }
   },
   "cell_type": "code",
   "source": [
    "class MAPELoss(nn.Module):\n",
    "    def __init__(self):\n",
    "        super(MAPELoss, self).__init__()\n",
    "\n",
    "    def forward(self, target, output):\n",
    "        return torch.mean(torch.abs((output - target) / target))\n",
    "    \n",
    "class R2Score(nn.Module):\n",
    "    def __init__(self):\n",
    "        super(R2Score, self).__init__()\n",
    "\n",
    "    def forward(self, target, output):\n",
    "        return 1 - torch.sum((output - target) ** 2) / torch.sum((target - torch.mean(target)) ** 2)\n",
    "    \n",
    "mape_loss = MAPELoss()\n",
    "r2_score = R2Score()"
   ],
   "id": "9a4dd3cdf01ee66a",
   "outputs": [],
   "execution_count": 9
  },
  {
   "metadata": {
    "ExecuteTime": {
     "end_time": "2024-10-25T13:28:21.201003Z",
     "start_time": "2024-10-25T13:27:15.492622Z"
    }
   },
   "cell_type": "code",
   "source": [
    "# 测试模型\n",
    "model.eval()\n",
    "with torch.no_grad():\n",
    "    with tqdm(test_loader) as tq:\n",
    "        for inputs, _ in tq:\n",
    "            inputs = inputs.to(device)\n",
    "            fdtd_output, lstm_output = model(inputs)\n",
    "            mape = mape_loss(inputs, fdtd_output)\n",
    "            r2 = r2_score(inputs, fdtd_output)\n",
    "            tq.set_postfix(mape=f\"{mape.item():.2f}%\", r2=f\"{r2.item():.4f}\")\n",
    "            "
   ],
   "id": "2326c0a2c1b5906f",
   "outputs": [
    {
     "name": "stderr",
     "output_type": "stream",
     "text": [
      "  0%|          | 0/157 [01:05<?, ?it/s]\n"
     ]
    },
    {
     "ename": "KeyboardInterrupt",
     "evalue": "",
     "output_type": "error",
     "traceback": [
      "\u001B[1;31m---------------------------------------------------------------------------\u001B[0m",
      "\u001B[1;31mKeyboardInterrupt\u001B[0m                         Traceback (most recent call last)",
      "Cell \u001B[1;32mIn[10], line 7\u001B[0m\n\u001B[0;32m      5\u001B[0m \u001B[38;5;28;01mfor\u001B[39;00m inputs, _ \u001B[38;5;129;01min\u001B[39;00m tq:\n\u001B[0;32m      6\u001B[0m     inputs \u001B[38;5;241m=\u001B[39m inputs\u001B[38;5;241m.\u001B[39mto(device)\n\u001B[1;32m----> 7\u001B[0m     fdtd_output, lstm_output \u001B[38;5;241m=\u001B[39m model(inputs)\n\u001B[0;32m      8\u001B[0m     mape \u001B[38;5;241m=\u001B[39m mape_loss(inputs, fdtd_output)\n\u001B[0;32m      9\u001B[0m     r2 \u001B[38;5;241m=\u001B[39m r2_score(inputs, fdtd_output)\n",
      "File \u001B[1;32mD:\\ProgramFiles\\Miniconda\\envs\\fdtd\\Lib\\site-packages\\torch\\nn\\modules\\module.py:1553\u001B[0m, in \u001B[0;36mModule._wrapped_call_impl\u001B[1;34m(self, *args, **kwargs)\u001B[0m\n\u001B[0;32m   1551\u001B[0m     \u001B[38;5;28;01mreturn\u001B[39;00m \u001B[38;5;28mself\u001B[39m\u001B[38;5;241m.\u001B[39m_compiled_call_impl(\u001B[38;5;241m*\u001B[39margs, \u001B[38;5;241m*\u001B[39m\u001B[38;5;241m*\u001B[39mkwargs)  \u001B[38;5;66;03m# type: ignore[misc]\u001B[39;00m\n\u001B[0;32m   1552\u001B[0m \u001B[38;5;28;01melse\u001B[39;00m:\n\u001B[1;32m-> 1553\u001B[0m     \u001B[38;5;28;01mreturn\u001B[39;00m \u001B[38;5;28mself\u001B[39m\u001B[38;5;241m.\u001B[39m_call_impl(\u001B[38;5;241m*\u001B[39margs, \u001B[38;5;241m*\u001B[39m\u001B[38;5;241m*\u001B[39mkwargs)\n",
      "File \u001B[1;32mD:\\ProgramFiles\\Miniconda\\envs\\fdtd\\Lib\\site-packages\\torch\\nn\\modules\\module.py:1562\u001B[0m, in \u001B[0;36mModule._call_impl\u001B[1;34m(self, *args, **kwargs)\u001B[0m\n\u001B[0;32m   1557\u001B[0m \u001B[38;5;66;03m# If we don't have any hooks, we want to skip the rest of the logic in\u001B[39;00m\n\u001B[0;32m   1558\u001B[0m \u001B[38;5;66;03m# this function, and just call forward.\u001B[39;00m\n\u001B[0;32m   1559\u001B[0m \u001B[38;5;28;01mif\u001B[39;00m \u001B[38;5;129;01mnot\u001B[39;00m (\u001B[38;5;28mself\u001B[39m\u001B[38;5;241m.\u001B[39m_backward_hooks \u001B[38;5;129;01mor\u001B[39;00m \u001B[38;5;28mself\u001B[39m\u001B[38;5;241m.\u001B[39m_backward_pre_hooks \u001B[38;5;129;01mor\u001B[39;00m \u001B[38;5;28mself\u001B[39m\u001B[38;5;241m.\u001B[39m_forward_hooks \u001B[38;5;129;01mor\u001B[39;00m \u001B[38;5;28mself\u001B[39m\u001B[38;5;241m.\u001B[39m_forward_pre_hooks\n\u001B[0;32m   1560\u001B[0m         \u001B[38;5;129;01mor\u001B[39;00m _global_backward_pre_hooks \u001B[38;5;129;01mor\u001B[39;00m _global_backward_hooks\n\u001B[0;32m   1561\u001B[0m         \u001B[38;5;129;01mor\u001B[39;00m _global_forward_hooks \u001B[38;5;129;01mor\u001B[39;00m _global_forward_pre_hooks):\n\u001B[1;32m-> 1562\u001B[0m     \u001B[38;5;28;01mreturn\u001B[39;00m forward_call(\u001B[38;5;241m*\u001B[39margs, \u001B[38;5;241m*\u001B[39m\u001B[38;5;241m*\u001B[39mkwargs)\n\u001B[0;32m   1564\u001B[0m \u001B[38;5;28;01mtry\u001B[39;00m:\n\u001B[0;32m   1565\u001B[0m     result \u001B[38;5;241m=\u001B[39m \u001B[38;5;28;01mNone\u001B[39;00m\n",
      "File \u001B[1;32mF:\\pyDistilledFDTD\\src\\model\\distill_model.py:266\u001B[0m, in \u001B[0;36mDistillModel.forward\u001B[1;34m(self, source)\u001B[0m\n\u001B[0;32m    264\u001B[0m     \u001B[38;5;28;01mreturn\u001B[39;00m torch\u001B[38;5;241m.\u001B[39mnorm(\u001B[38;5;28mself\u001B[39m\u001B[38;5;241m.\u001B[39mstudent_model(\u001B[38;5;28mself\u001B[39m\u001B[38;5;241m.\u001B[39mdata_expand(source))\u001B[38;5;241m.\u001B[39msum(dim\u001B[38;5;241m=\u001B[39m\u001B[38;5;241m1\u001B[39m), dim\u001B[38;5;241m=\u001B[39m\u001B[38;5;241m1\u001B[39m)\n\u001B[0;32m    265\u001B[0m \u001B[38;5;28;01melse\u001B[39;00m:\n\u001B[1;32m--> 266\u001B[0m     \u001B[38;5;28;01mreturn\u001B[39;00m \u001B[38;5;28mself\u001B[39m\u001B[38;5;241m.\u001B[39msim(source), \u001B[38;5;28mself\u001B[39m\u001B[38;5;241m.\u001B[39mstudent_model(\u001B[38;5;28mself\u001B[39m\u001B[38;5;241m.\u001B[39mdata_expand(source))\n",
      "File \u001B[1;32mF:\\pyDistilledFDTD\\src\\model\\distill_model.py:297\u001B[0m, in \u001B[0;36mDistillModel.sim\u001B[1;34m(self, source)\u001B[0m\n\u001B[0;32m    295\u001B[0m \u001B[38;5;28mself\u001B[39m\u001B[38;5;241m.\u001B[39mset_source(source[i])\n\u001B[0;32m    296\u001B[0m \u001B[38;5;28mself\u001B[39m\u001B[38;5;241m.\u001B[39mset_permittivity()\n\u001B[1;32m--> 297\u001B[0m \u001B[38;5;28mself\u001B[39m\u001B[38;5;241m.\u001B[39mgrid\u001B[38;5;241m.\u001B[39mrun(cfg\u001B[38;5;241m.\u001B[39msimulation_step, progress_bar\u001B[38;5;241m=\u001B[39m\u001B[38;5;28;01mFalse\u001B[39;00m)\n\u001B[0;32m    298\u001B[0m output \u001B[38;5;241m=\u001B[39m torch\u001B[38;5;241m.\u001B[39mtensor([], device\u001B[38;5;241m=\u001B[39m\u001B[38;5;28mself\u001B[39m\u001B[38;5;241m.\u001B[39mdevice)\n\u001B[0;32m    299\u001B[0m \u001B[38;5;28;01mfor\u001B[39;00m j \u001B[38;5;129;01min\u001B[39;00m \u001B[38;5;28mrange\u001B[39m(cfg\u001B[38;5;241m.\u001B[39mports):\n\u001B[0;32m    300\u001B[0m     \u001B[38;5;66;03m# torch.Tensor[simulation_step, len, 3]\u001B[39;00m\n",
      "File \u001B[1;32mF:\\pyDistilledFDTD\\src\\model\\fdtd\\grid.py:265\u001B[0m, in \u001B[0;36mGrid.run\u001B[1;34m(self, total_time, progress_bar)\u001B[0m\n\u001B[0;32m    263\u001B[0m     time \u001B[38;5;241m=\u001B[39m tqdm(time)\n\u001B[0;32m    264\u001B[0m \u001B[38;5;28;01mfor\u001B[39;00m _ \u001B[38;5;129;01min\u001B[39;00m time:\n\u001B[1;32m--> 265\u001B[0m     \u001B[38;5;28mself\u001B[39m\u001B[38;5;241m.\u001B[39mstep()\n",
      "File \u001B[1;32mF:\\pyDistilledFDTD\\src\\model\\fdtd\\grid.py:271\u001B[0m, in \u001B[0;36mGrid.step\u001B[1;34m(self)\u001B[0m\n\u001B[0;32m    267\u001B[0m \u001B[38;5;28;01mdef\u001B[39;00m \u001B[38;5;21mstep\u001B[39m(\u001B[38;5;28mself\u001B[39m):\n\u001B[0;32m    268\u001B[0m \u001B[38;5;250m    \u001B[39m\u001B[38;5;124;03m\"\"\"do a single FDTD step by first updating the electric field and then\u001B[39;00m\n\u001B[0;32m    269\u001B[0m \u001B[38;5;124;03m    updating the magnetic field\u001B[39;00m\n\u001B[0;32m    270\u001B[0m \u001B[38;5;124;03m    \"\"\"\u001B[39;00m\n\u001B[1;32m--> 271\u001B[0m     \u001B[38;5;28mself\u001B[39m\u001B[38;5;241m.\u001B[39mupdate_E()\n\u001B[0;32m    272\u001B[0m     \u001B[38;5;28mself\u001B[39m\u001B[38;5;241m.\u001B[39mupdate_H()\n\u001B[0;32m    273\u001B[0m     \u001B[38;5;28mself\u001B[39m\u001B[38;5;241m.\u001B[39mtime_steps_passed \u001B[38;5;241m+\u001B[39m\u001B[38;5;241m=\u001B[39m \u001B[38;5;241m1\u001B[39m\n",
      "File \u001B[1;32mF:\\pyDistilledFDTD\\src\\model\\fdtd\\grid.py:280\u001B[0m, in \u001B[0;36mGrid.update_E\u001B[1;34m(self)\u001B[0m\n\u001B[0;32m    278\u001B[0m \u001B[38;5;66;03m# update boundaries: step 1\u001B[39;00m\n\u001B[0;32m    279\u001B[0m \u001B[38;5;28;01mfor\u001B[39;00m boundary \u001B[38;5;129;01min\u001B[39;00m \u001B[38;5;28mself\u001B[39m\u001B[38;5;241m.\u001B[39mboundaries:\n\u001B[1;32m--> 280\u001B[0m     boundary\u001B[38;5;241m.\u001B[39mupdate_phi_E()\n\u001B[0;32m    282\u001B[0m curl \u001B[38;5;241m=\u001B[39m curl_H(\u001B[38;5;28mself\u001B[39m\u001B[38;5;241m.\u001B[39mH)\n\u001B[0;32m    283\u001B[0m \u001B[38;5;28mself\u001B[39m\u001B[38;5;241m.\u001B[39mE \u001B[38;5;241m+\u001B[39m\u001B[38;5;241m=\u001B[39m \u001B[38;5;28mself\u001B[39m\u001B[38;5;241m.\u001B[39mcourant_number \u001B[38;5;241m*\u001B[39m \u001B[38;5;28mself\u001B[39m\u001B[38;5;241m.\u001B[39minverse_permittivity \u001B[38;5;241m*\u001B[39m curl\n",
      "\u001B[1;31mKeyboardInterrupt\u001B[0m: "
     ]
    }
   ],
   "execution_count": 10
  }
 ],
 "metadata": {
  "kernelspec": {
   "display_name": "Python 3",
   "language": "python",
   "name": "python3"
  },
  "language_info": {
   "codemirror_mode": {
    "name": "ipython",
    "version": 2
   },
   "file_extension": ".py",
   "mimetype": "text/x-python",
   "name": "python",
   "nbconvert_exporter": "python",
   "pygments_lexer": "ipython2",
   "version": "2.7.6"
  }
 },
 "nbformat": 4,
 "nbformat_minor": 5
}
