{
 "cells": [
  {
   "cell_type": "code",
   "id": "initial_id",
   "metadata": {
    "collapsed": true,
    "ExecuteTime": {
     "end_time": "2024-10-19T10:10:06.423153Z",
     "start_time": "2024-10-19T10:09:51.954727Z"
    }
   },
   "source": [
    "import torch\n",
    "import time\n",
    "import os\n",
    "from tqdm import tqdm\n",
    "import numpy as np\n",
    "from src.dataset import core_data_loader\n",
    "from src.model import DistillModel, StudentLSTMModule\n",
    "import config as cfg"
   ],
   "outputs": [],
   "execution_count": 1
  },
  {
   "metadata": {
    "ExecuteTime": {
     "end_time": "2024-10-19T10:10:06.472067Z",
     "start_time": "2024-10-19T10:10:06.442452Z"
    }
   },
   "cell_type": "code",
   "source": [
    "train_loader, test_loader = core_data_loader(eta=0.01, batch_size=1)\n",
    "\n",
    "print('train_loader: ', len(train_loader))\n",
    "print('test_loader: ', len(test_loader))"
   ],
   "id": "857f2d8d0cc8648a",
   "outputs": [
    {
     "name": "stdout",
     "output_type": "stream",
     "text": [
      "Loading core data from F:\\pyDistilledFDTD\\data\\cache\\core_data_loader\\greedy\\pca-components-10\\batch-size-1-eta-0.01.pkl\n",
      "train_loader:  600\n",
      "test_loader:  10000\n"
     ]
    }
   ],
   "execution_count": 2
  },
  {
   "metadata": {
    "ExecuteTime": {
     "end_time": "2024-10-19T10:10:06.931017Z",
     "start_time": "2024-10-19T10:10:06.918133Z"
    }
   },
   "cell_type": "code",
   "source": "device = \"cuda\" if torch.cuda.is_available() else \"cpu\"",
   "id": "50e96f57066dd590",
   "outputs": [],
   "execution_count": 3
  },
  {
   "metadata": {
    "ExecuteTime": {
     "end_time": "2024-10-19T10:10:07.896226Z",
     "start_time": "2024-10-19T10:10:06.960471Z"
    }
   },
   "cell_type": "code",
   "source": [
    "radius_matrix = np.random.rand(10, 10)\n",
    "radius_matrix[radius_matrix < 0.3] = 0\n",
    "print('radius_matrix: ', radius_matrix.flatten())\n",
    "\n",
    "student_model = StudentLSTMModule(input_size=10, hidden_size=128, output_size=10, num_layer=2)\n",
    "model = DistillModel(radius_matrix, student_model, expand_method='sin')\n",
    "model = model.to(device)\n",
    "\n",
    "optimizer = torch.optim.Adam(model.student_model.parameters(), lr=0.001)"
   ],
   "id": "b1d18190665b2ca7",
   "outputs": [
    {
     "name": "stdout",
     "output_type": "stream",
     "text": [
      "radius_matrix:  [0.82165994 0.         0.6864635  0.81904375 0.67695378 0.38863517\n",
      " 0.84291541 0.         0.62167543 0.41282549 0.98717967 0.84503808\n",
      " 0.81256787 0.         0.64648234 0.71247146 0.53465788 0.\n",
      " 0.81691363 0.86312937 0.81148358 0.         0.51422165 0.58486831\n",
      " 0.36441316 0.94109372 0.         0.67398161 0.78479876 0.39157251\n",
      " 0.91648447 0.         0.76754852 0.45025886 0.59141299 0.54177986\n",
      " 0.         0.48506218 0.89734392 0.         0.32146157 0.45711014\n",
      " 0.44443593 0.65867254 0.41297662 0.         0.         0.42931176\n",
      " 0.55526522 0.77691304 0.81009626 0.42011165 0.45555794 0.\n",
      " 0.         0.         0.47847764 0.82664114 0.         0.96371125\n",
      " 0.90487697 0.         0.52596768 0.         0.47302456 0.50633056\n",
      " 0.41210205 0.79473886 0.         0.32727209 0.         0.44322516\n",
      " 0.         0.79650177 0.         0.73142252 0.         0.80810544\n",
      " 0.53252688 0.7204535  0.         0.50184238 0.4591588  0.66266283\n",
      " 0.73488166 0.41460809 0.50734342 0.88801483 0.         0.\n",
      " 0.         0.62302188 0.35151722 0.         0.         0.36191051\n",
      " 0.4622374  0.32899022 0.87606494 0.        ]\n"
     ]
    }
   ],
   "execution_count": 4
  },
  {
   "metadata": {
    "jupyter": {
     "is_executing": true
    },
    "ExecuteTime": {
     "start_time": "2024-10-19T10:10:07.919039Z"
    }
   },
   "cell_type": "code",
   "source": [
    "epochs = 100\n",
    "last_loss = 0.0\n",
    "with tqdm(total=epochs * len(train_loader)) as pbar:\n",
    "    for epoch in range(epochs):\n",
    "        model.train()\n",
    "        running_loss = 0.0\n",
    "        with torch.enable_grad():\n",
    "            for inputs, _ in train_loader:\n",
    "                inputs = inputs.to(device)\n",
    "                optimizer.zero_grad()\n",
    "                loss = model(inputs)\n",
    "                loss.backward()\n",
    "                optimizer.step()\n",
    "                \n",
    "                running_loss += loss.item()\n",
    "                pbar.update(1)\n",
    "                pbar.set_postfix({'data_loss':loss.item(), 'loss': last_loss})\n",
    "        last_loss = running_loss"
   ],
   "id": "14d55cab1e3a2e33",
   "outputs": [
    {
     "name": "stderr",
     "output_type": "stream",
     "text": [
      "  0%|          | 0/60000 [00:00<?, ?it/s]"
     ]
    }
   ],
   "execution_count": null
  },
  {
   "metadata": {},
   "cell_type": "code",
   "outputs": [],
   "execution_count": null,
   "source": [
    "save_path = os.path.join(cfg.PROCESSED_DATA_DIR, f\"param-{time.strftime('%Y-%m-%d-%H-%M-%S')}.pth\")\n",
    "\n",
    "torch.save({\n",
    "    'radius': radius_matrix,\n",
    "    'model_state_dict': model.student_model.state_dict()\n",
    "}, save_path)"
   ],
   "id": "dbcec7b217dbf5cb"
  }
 ],
 "metadata": {
  "kernelspec": {
   "display_name": "Python 3",
   "language": "python",
   "name": "python3"
  },
  "language_info": {
   "codemirror_mode": {
    "name": "ipython",
    "version": 2
   },
   "file_extension": ".py",
   "mimetype": "text/x-python",
   "name": "python",
   "nbconvert_exporter": "python",
   "pygments_lexer": "ipython2",
   "version": "2.7.6"
  }
 },
 "nbformat": 4,
 "nbformat_minor": 5
}
