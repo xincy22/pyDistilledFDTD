{
 "cells": [
  {
   "cell_type": "code",
   "execution_count": null,
   "metadata": {},
   "outputs": [],
   "source": [
    "import os\n",
    "\n",
    "import torch\n",
    "from torch.utils.data import DataLoader\n",
    "\n",
    "from data.distill_dataset import DistillDataManager\n",
    "from student.output import DeepResNet"
   ]
  },
  {
   "cell_type": "code",
   "execution_count": null,
   "metadata": {},
   "outputs": [],
   "source": [
    "radius_save_path = \"data/radius_matrix.pth\"\n",
    "\n",
    "if os.path.exists(radius_save_path):\n",
    "    radius_matrix = torch.load(radius_save_path, weights_only=False)\n",
    "else:\n",
    "    radius_matrix = torch.rand(10, 10) * 10\n",
    "    torch.save(radius_matrix, radius_save_path)\n",
    "\n",
    "print(radius_matrix)"
   ]
  },
  {
   "cell_type": "code",
   "execution_count": null,
   "metadata": {},
   "outputs": [],
   "source": [
    "data_manager = DistillDataManager(radius_matrix)\n",
    "\n",
    "train_dataset = data_manager.get_train_dataset()\n",
    "test_dataset = data_manager.get_test_dataset()\n",
    "\n",
    "print(train_dataset)\n",
    "print(test_dataset)\n",
    "\n",
    "train_loader = DataLoader(train_dataset, batch_size=10, shuffle=True)\n",
    "test_loader = DataLoader(test_dataset, batch_size=10, shuffle=True)"
   ]
  },
  {
   "cell_type": "code",
   "execution_count": null,
   "metadata": {},
   "outputs": [],
   "source": []
  }
 ],
 "metadata": {
  "kernelspec": {
   "display_name": "OpTorch",
   "language": "python",
   "name": "python3"
  },
  "language_info": {
   "name": "python",
   "version": "3.11.11"
  }
 },
 "nbformat": 4,
 "nbformat_minor": 2
}
