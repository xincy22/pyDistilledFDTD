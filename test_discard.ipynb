{
 "cells": [
  {
   "cell_type": "code",
   "id": "initial_id",
   "metadata": {
    "collapsed": true,
    "ExecuteTime": {
     "end_time": "2024-10-10T14:16:54.461039Z",
     "start_time": "2024-10-10T14:16:54.456730Z"
    }
   },
   "source": [
    "import torch\n",
    "from src.dataset import pca_data_loader\n",
    "from src.model import DistillModel, StudentSequenceModel, config as cfg"
   ],
   "outputs": [],
   "execution_count": 5
  },
  {
   "metadata": {
    "ExecuteTime": {
     "end_time": "2024-10-10T14:16:54.497554Z",
     "start_time": "2024-10-10T14:16:54.469809Z"
    }
   },
   "cell_type": "code",
   "source": [
    "# 加载模型\n",
    "load_path = \".cache/student_model_2024-10-08-14-29-28.pth\"\n",
    "check_point = torch.load(load_path, weights_only=False)\n",
    "\n",
    "radius_matrix = check_point[\"radius_matrix\"]\n",
    "model = DistillModel(radius_matrix, StudentSequenceModel)\n",
    "model.student_model.load_state_dict(check_point[\"student_model\"])"
   ],
   "id": "5f2944ff3e00eb6b",
   "outputs": [
    {
     "data": {
      "text/plain": [
       "<All keys matched successfully>"
      ]
     },
     "execution_count": 6,
     "metadata": {},
     "output_type": "execute_result"
    }
   ],
   "execution_count": 6
  },
  {
   "metadata": {
    "ExecuteTime": {
     "end_time": "2024-10-10T14:16:54.590446Z",
     "start_time": "2024-10-10T14:16:54.577789Z"
    }
   },
   "cell_type": "code",
   "source": [
    "# 加载测试数据\n",
    "_, test_loader = pca_data_loader(n_components=10, batch_size=64)"
   ],
   "id": "22d29b3facc40254",
   "outputs": [
    {
     "name": "stdout",
     "output_type": "stream",
     "text": [
      "Loading PCA data from F:\\pyDistilledFDTD\\dataset\\.cache\\pca\\pca-components-10\\batch-size-64.pkl\n"
     ]
    }
   ],
   "execution_count": 7
  },
  {
   "metadata": {
    "ExecuteTime": {
     "end_time": "2024-10-10T14:17:16.919111Z",
     "start_time": "2024-10-10T14:16:54.692937Z"
    }
   },
   "cell_type": "code",
   "source": [
    "# 测试模型\n",
    "model.eval()\n",
    "model.set_simulation_mode(fdtd=True, lstm=True)\n",
    "with torch.no_grad():\n",
    "    for inputs, _ in test_loader:\n",
    "        inputs = inputs.to(cfg.device)\n",
    "        for data in inputs:\n",
    "            fdtd_output, lstm_output = model(data.unsqueeze(0))\n",
    "            \n",
    "            fdtd_output = fdtd_output.squeeze(0)\n",
    "            lstm_output = lstm_output.squeeze(0)\n",
    "            \n",
    "            relative_difference = torch.abs(fdtd_output - lstm_output) / torch.abs(fdtd_output)\n",
    "            print(relative_difference)\n",
    "            break\n",
    "        break"
   ],
   "id": "19c9319873d78ed8",
   "outputs": [
    {
     "name": "stdout",
     "output_type": "stream",
     "text": [
      "tensor([5.4424, 0.3642, 1.0693, 0.2596, 0.0283, 2.5317, 4.1049, 3.4552, 0.6495,\n",
      "        0.1731], device='cuda:0')\n"
     ]
    }
   ],
   "execution_count": 8
  }
 ],
 "metadata": {
  "kernelspec": {
   "display_name": "Python 3",
   "language": "python",
   "name": "python3"
  },
  "language_info": {
   "codemirror_mode": {
    "name": "ipython",
    "version": 2
   },
   "file_extension": ".py",
   "mimetype": "text/x-python",
   "name": "python",
   "nbconvert_exporter": "python",
   "pygments_lexer": "ipython2",
   "version": "2.7.6"
  }
 },
 "nbformat": 4,
 "nbformat_minor": 5
}
