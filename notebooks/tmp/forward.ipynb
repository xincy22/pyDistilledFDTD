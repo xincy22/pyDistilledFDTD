{
 "cells": [
  {
   "cell_type": "code",
   "id": "initial_id",
   "metadata": {
    "collapsed": true,
    "ExecuteTime": {
     "end_time": "2024-10-10T08:11:03.733425Z",
     "start_time": "2024-10-10T08:10:58.742390Z"
    }
   },
   "source": [
    "import model.fdtd as oNN\n",
    "import config as cfg\n",
    "import torch\n",
    "import numpy as np\n",
    "from dataset import core_data_loader"
   ],
   "outputs": [],
   "execution_count": 1
  },
  {
   "metadata": {
    "ExecuteTime": {
     "end_time": "2024-10-10T08:11:03.745685Z",
     "start_time": "2024-10-10T08:11:03.738455Z"
    }
   },
   "cell_type": "code",
   "source": [
    "def Init():\n",
    "    oNN.set_backend(cfg.backend)\n",
    "    \n",
    "    grid = oNN.Grid(\n",
    "        shape = (cfg.Nx, cfg.Ny, 1),\n",
    "        grid_spacing=cfg.dx,\n",
    "        permittivity=1.0\n",
    "    )\n",
    "    \n",
    "    grid[0:10, :, :] = oNN.PML(name=\"pml_xlow\")\n",
    "    grid[-10:, :, :] = oNN.PML(name=\"pml_xhigh\")\n",
    "    grid[:, 0:10, :] = oNN.PML(name=\"pml_ylow\")\n",
    "    grid[:, -10:, :] = oNN.PML(name=\"pml_yhigh\")\n",
    "    \n",
    "    for i in range(cfg.ports):\n",
    "        grid[0:cfg.source_loc, cfg.ports_slice[i], 0] = oNN.Object(\n",
    "            permittivity=2.8 * torch.ones([cfg.source_loc, cfg.port_width, 1]), name=f\"wg{i}\"\n",
    "        )\n",
    "        grid[cfg.detector_loc:, cfg.ports_slice[i], 0] = oNN.Object(\n",
    "            permittivity=2.8 * torch.ones([cfg.Nx - cfg.detector_loc, cfg.port_width, 1]), name=f\"op{i}\"\n",
    "        )\n",
    "        grid[cfg.detector_loc, cfg.ports_slice[i], 0] = oNN.LineDetector(\n",
    "            name=f\"detector{i}\"\n",
    "        )\n",
    "    return grid"
   ],
   "id": "d8b2b6ff77e83f03",
   "outputs": [],
   "execution_count": 2
  },
  {
   "metadata": {
    "ExecuteTime": {
     "end_time": "2024-10-10T08:11:03.815151Z",
     "start_time": "2024-10-10T08:11:03.810741Z"
    }
   },
   "cell_type": "code",
   "source": [
    "def set_source(grid, source):\n",
    "    for i in range(cfg.ports):\n",
    "        grid[cfg.source_loc, cfg.ports_slice[i], 0] = oNN.LineSource(\n",
    "            period=cfg.WAVELENGTH / cfg.SPEED_LIGHT, phase_shift=source[i] * torch.pi, name=f\"source{i}\"\n",
    "        )\n",
    "    return grid"
   ],
   "id": "b3e838e4bcdf724d",
   "outputs": [],
   "execution_count": 3
  },
  {
   "metadata": {
    "ExecuteTime": {
     "end_time": "2024-10-10T08:11:03.829667Z",
     "start_time": "2024-10-10T08:11:03.823582Z"
    }
   },
   "cell_type": "code",
   "source": [
    "def set_permittivity(grid, radius_matrix: np.ndarray):\n",
    "    \n",
    "    radius_matrix[radius_matrix < 0.3] = 0\n",
    "    radius_matrix = torch.tensor(radius_matrix * 10)\n",
    "    print(radius_matrix)\n",
    "    \n",
    "    x, y = torch.meshgrid(torch.arange(cfg.center_size), torch.arange(cfg.center_size), indexing='ij')\n",
    "    \n",
    "    outside_circle = torch.ones((cfg.center_size, cfg.center_size), dtype=torch.int)\n",
    "    \n",
    "    for cx, cy, radius in zip(cfg.x_centers, cfg.y_centers, radius_matrix.flatten()):\n",
    "        mask = (x - cx) ** 2 + (y - cy) ** 2 <= radius ** 2\n",
    "        outside_circle[mask] = 0\n",
    "        \n",
    "    permittivity = outside_circle.view(cfg.center_size, cfg.center_size, 1).float()\n",
    "    grid[cfg.center_slice, cfg.center_slice, 0] = oNN.Object(\n",
    "        permittivity=permittivity * 1.8 + 1, name=\"core\"\n",
    "    )\n",
    "    return grid"
   ],
   "id": "26fd78a3c966825b",
   "outputs": [],
   "execution_count": 4
  },
  {
   "metadata": {},
   "cell_type": "markdown",
   "source": [
    "`detectors[index].detector_values()`返回一个字典，包含两个键：`E`和`H`。\n",
    "\n",
    "每个键下有一个长度为`timesteps`的列表，列表的元素是一个`torch.Tensor`，为对应的电场或磁场值。\n",
    "\n",
    "该`torch.Tensor`的`shape`为`(len, 3)`。`len`为`LineDetector`中点的个数，`3`代表三个方向的分量。"
   ],
   "id": "56f06d97843ca5dc"
  },
  {
   "metadata": {
    "ExecuteTime": {
     "end_time": "2024-10-10T08:11:05.072230Z",
     "start_time": "2024-10-10T08:11:03.838891Z"
    }
   },
   "cell_type": "code",
   "source": [
    "train_loader, test_loader = core_data_loader(batch_size=1)\n",
    "\n",
    "radius_matrix = np.random.rand(10, 10)\n",
    "\n",
    "it = 0\n",
    "for data, labels in train_loader:\n",
    "    silicon_plane = Init()\n",
    "    silicon_plane = set_source(silicon_plane, data[0])\n",
    "    silicon_plane = set_permittivity(silicon_plane, radius_matrix)\n",
    "    # silicon_plane.run(cfg.time_step)\n",
    "    silicon_plane.visualize(z=0)\n",
    "    output = torch.tensor([], device=cfg.device)\n",
    "    output2 = []\n",
    "    for i in range(cfg.ports): # Ez的值作为输出，空间上取平均，时间上取和\n",
    "        detector_values_E = torch.stack(silicon_plane.detectors[i].detector_values()[\"E\"], dim=0)\n",
    "        output = torch.cat([output, torch.mean(detector_values_E[:,:,-1]**2, dim=1).sum(dim=0).unsqueeze(-1)])\n",
    "        output2.append(torch.mean(detector_values_E[:,:,-1]**2, dim=1).sum(dim=0))\n",
    "    print(output)\n",
    "    print(output2)\n",
    "    break\n"
   ],
   "id": "a3a76a65b3f91bf5",
   "outputs": [
    {
     "name": "stdout",
     "output_type": "stream",
     "text": [
      "Loading core data from F:\\pyDistilledFDTD\\dataset\\.cache\\core\\greedy\\pca-components-10\\batch-size-1-eta-0.1.pkl\n",
      "Time step: 5.837669483455467e-17\n",
      "tensor([[0.0000, 6.3985, 4.4771, 0.0000, 6.2071, 0.0000, 5.0227, 6.3642, 4.5521,\n",
      "         3.0550],\n",
      "        [6.1928, 3.7570, 4.3175, 6.4108, 0.0000, 8.1667, 0.0000, 3.0740, 0.0000,\n",
      "         9.7562],\n",
      "        [8.4166, 5.8399, 4.5279, 0.0000, 0.0000, 0.0000, 7.4953, 9.9826, 4.7367,\n",
      "         6.6425],\n",
      "        [0.0000, 6.1483, 4.2065, 3.7362, 0.0000, 0.0000, 5.6156, 8.6113, 0.0000,\n",
      "         3.0747],\n",
      "        [8.9785, 9.2952, 5.8184, 6.0832, 5.8271, 9.1182, 0.0000, 4.9088, 4.6602,\n",
      "         0.0000],\n",
      "        [7.6045, 4.0758, 3.1690, 0.0000, 9.4312, 0.0000, 4.7356, 0.0000, 7.6842,\n",
      "         8.6573],\n",
      "        [3.9889, 9.6084, 8.7443, 0.0000, 7.6454, 0.0000, 3.5654, 6.1447, 9.7336,\n",
      "         0.0000],\n",
      "        [0.0000, 5.4610, 6.8730, 4.3748, 0.0000, 9.1996, 0.0000, 7.1251, 6.3346,\n",
      "         8.1147],\n",
      "        [0.0000, 8.5394, 9.5810, 5.5331, 5.4720, 5.1771, 9.5768, 3.5991, 3.4389,\n",
      "         0.0000],\n",
      "        [6.1855, 9.0665, 8.7911, 6.5678, 9.2303, 0.0000, 0.0000, 7.1528, 0.0000,\n",
      "         3.4641]])\n"
     ]
    },
    {
     "ename": "RuntimeError",
     "evalue": "stack expects a non-empty TensorList",
     "output_type": "error",
     "traceback": [
      "\u001B[1;31m---------------------------------------------------------------------------\u001B[0m",
      "\u001B[1;31mRuntimeError\u001B[0m                              Traceback (most recent call last)",
      "Cell \u001B[1;32mIn[5], line 15\u001B[0m\n\u001B[0;32m     13\u001B[0m output2 \u001B[38;5;241m=\u001B[39m []\n\u001B[0;32m     14\u001B[0m \u001B[38;5;28;01mfor\u001B[39;00m i \u001B[38;5;129;01min\u001B[39;00m \u001B[38;5;28mrange\u001B[39m(cfg\u001B[38;5;241m.\u001B[39mports): \u001B[38;5;66;03m# Ez的值作为输出，空间上取平均，时间上取和\u001B[39;00m\n\u001B[1;32m---> 15\u001B[0m     detector_values_E \u001B[38;5;241m=\u001B[39m torch\u001B[38;5;241m.\u001B[39mstack(silicon_plane\u001B[38;5;241m.\u001B[39mdetectors[i]\u001B[38;5;241m.\u001B[39mdetector_values()[\u001B[38;5;124m\"\u001B[39m\u001B[38;5;124mE\u001B[39m\u001B[38;5;124m\"\u001B[39m], dim\u001B[38;5;241m=\u001B[39m\u001B[38;5;241m0\u001B[39m)\n\u001B[0;32m     16\u001B[0m     output \u001B[38;5;241m=\u001B[39m torch\u001B[38;5;241m.\u001B[39mcat([output, torch\u001B[38;5;241m.\u001B[39mmean(detector_values_E[:,:,\u001B[38;5;241m-\u001B[39m\u001B[38;5;241m1\u001B[39m]\u001B[38;5;241m*\u001B[39m\u001B[38;5;241m*\u001B[39m\u001B[38;5;241m2\u001B[39m, dim\u001B[38;5;241m=\u001B[39m\u001B[38;5;241m1\u001B[39m)\u001B[38;5;241m.\u001B[39msum(dim\u001B[38;5;241m=\u001B[39m\u001B[38;5;241m0\u001B[39m)\u001B[38;5;241m.\u001B[39munsqueeze(\u001B[38;5;241m-\u001B[39m\u001B[38;5;241m1\u001B[39m)])\n\u001B[0;32m     17\u001B[0m     output2\u001B[38;5;241m.\u001B[39mappend(torch\u001B[38;5;241m.\u001B[39mmean(detector_values_E[:,:,\u001B[38;5;241m-\u001B[39m\u001B[38;5;241m1\u001B[39m]\u001B[38;5;241m*\u001B[39m\u001B[38;5;241m*\u001B[39m\u001B[38;5;241m2\u001B[39m, dim\u001B[38;5;241m=\u001B[39m\u001B[38;5;241m1\u001B[39m)\u001B[38;5;241m.\u001B[39msum(dim\u001B[38;5;241m=\u001B[39m\u001B[38;5;241m0\u001B[39m))\n",
      "\u001B[1;31mRuntimeError\u001B[0m: stack expects a non-empty TensorList"
     ]
    },
    {
     "data": {
      "text/plain": [
       "<Figure size 640x480 with 1 Axes>"
      ],
      "image/png": "[encoded data removed]"
     },
     "metadata": {},
     "output_type": "display_data"
    }
   ],
   "execution_count": 5
  }
 ],
 "metadata": {
  "kernelspec": {
   "display_name": "Python 3",
   "language": "python",
   "name": "python3"
  },
  "language_info": {
   "codemirror_mode": {
    "name": "ipython",
    "version": 2
   },
   "file_extension": ".py",
   "mimetype": "text/x-python",
   "name": "python",
   "nbconvert_exporter": "python",
   "pygments_lexer": "ipython2",
   "version": "2.7.6"
  }
 },
 "nbformat": 4,
 "nbformat_minor": 5
}
