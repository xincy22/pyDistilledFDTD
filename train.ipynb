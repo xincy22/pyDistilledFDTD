{
 "cells": [
  {
   "cell_type": "code",
   "execution_count": 1,
   "id": "initial_id",
   "metadata": {
    "ExecuteTime": {
     "end_time": "2024-10-07T15:53:29.879784Z",
     "start_time": "2024-10-07T15:53:26.219411Z"
    },
    "collapsed": true
   },
   "outputs": [],
   "source": [
    "import torch\n",
    "import time\n",
    "import os\n",
    "from tqdm import tqdm\n",
    "import numpy as np\n",
    "from dataset import core_data_loader\n",
    "from model import DistillModel, StudentSequenceModel"
   ]
  },
  {
   "cell_type": "code",
   "execution_count": 2,
   "id": "6dcab282ac442b29",
   "metadata": {
    "ExecuteTime": {
     "end_time": "2024-10-07T15:53:29.990841Z",
     "start_time": "2024-10-07T15:53:29.982563Z"
    }
   },
   "outputs": [
    {
     "name": "stdout",
     "output_type": "stream",
     "text": [
      "current working dir: /root/pyDistilledFDTD\n",
      "cache path: /root/pyDistilledFDTD/.cache\n"
     ]
    }
   ],
   "source": [
    "# 设置缓存路径\n",
    "dir_path = os.getcwd()\n",
    "cache_path = os.path.join(dir_path, \".cache\")\n",
    "os.makedirs(cache_path, exist_ok=True)\n",
    "\n",
    "print(f\"current working dir: {dir_path}\")\n",
    "print(f\"cache path: {cache_path}\")"
   ]
  },
  {
   "cell_type": "code",
   "execution_count": 3,
   "id": "f3417ec36384df07",
   "metadata": {
    "ExecuteTime": {
     "end_time": "2024-10-07T15:53:30.447012Z",
     "start_time": "2024-10-07T15:53:30.439601Z"
    }
   },
   "outputs": [
    {
     "name": "stdout",
     "output_type": "stream",
     "text": [
      "Loading core data from /root/pyDistilledFDTD/dataset/.cache/core/greedy/pca-components-10/batch-size-1-eta-0.01.pkl\n",
      "train data size: 600\n",
      "test data size: 10000\n"
     ]
    }
   ],
   "source": [
    "# 加载数据\n",
    "train_loader, test_loader = core_data_loader(eta=0.01, batch_size=1)\n",
    "\n",
    "print(f\"train data size: {len(train_loader)}\")\n",
    "print(f\"test data size: {len(test_loader)}\")\n",
    "\n",
    "# 设置设备\n",
    "device = torch.device(\"cuda\" if torch.cuda.is_available() else \"cpu\")"
   ]
  },
  {
   "cell_type": "code",
   "execution_count": 4,
   "id": "798bdc56bb1eb",
   "metadata": {
    "ExecuteTime": {
     "end_time": "2024-10-07T15:53:30.867713Z",
     "start_time": "2024-10-07T15:53:30.557246Z"
    }
   },
   "outputs": [
    {
     "name": "stdout",
     "output_type": "stream",
     "text": [
      "[[0.0841148  0.31256194 0.23945658 0.13212715 0.07424489 0.9855788\n",
      "  0.85097928 0.51481715 0.12865044 0.56303219]\n",
      " [0.43497856 0.82494826 0.86788573 0.10375143 0.09723539 0.18044094\n",
      "  0.09320979 0.92111445 0.36111127 0.65310328]\n",
      " [0.82586661 0.96721154 0.41039585 0.35956671 0.27274564 0.66721724\n",
      "  0.99516399 0.93233188 0.29265336 0.81817654]\n",
      " [0.80969515 0.15622216 0.54194143 0.49552312 0.65293209 0.34732713\n",
      "  0.47953365 0.03801998 0.86377679 0.17622188]\n",
      " [0.74031416 0.35443611 0.98661807 0.94338242 0.20615526 0.45194494\n",
      "  0.00926944 0.816122   0.39067166 0.12424215]\n",
      " [0.82505376 0.02891013 0.8704457  0.31029998 0.73462796 0.82354464\n",
      "  0.07291546 0.15312064 0.46156672 0.01916062]\n",
      " [0.38615059 0.73439155 0.76119317 0.29808613 0.15549912 0.10429426\n",
      "  0.35488086 0.48662795 0.17148327 0.46923418]\n",
      " [0.70432705 0.59026092 0.31907682 0.20005936 0.20742479 0.37161586\n",
      "  0.69760461 0.1079499  0.72966881 0.45409293]\n",
      " [0.87408946 0.10738391 0.03695502 0.80038825 0.29943694 0.1779864\n",
      "  0.04275086 0.49474386 0.26433033 0.54408128]\n",
      " [0.8727643  0.82140814 0.08197421 0.25118175 0.73055579 0.76808987\n",
      "  0.17853272 0.82564006 0.17682766 0.53269356]]\n"
     ]
    }
   ],
   "source": [
    "# 加载模型、优化器\n",
    "radius_matrix = np.random.rand(10, 10)\n",
    "print(radius_matrix)\n",
    "model = DistillModel(radius_matrix, StudentSequenceModel).to(device)\n",
    "optimizer = torch.optim.Adam(model.student_model.parameters(), lr=0.01)"
   ]
  },
  {
   "cell_type": "code",
   "execution_count": 5,
   "id": "bc3a308411e6a946",
   "metadata": {
    "ExecuteTime": {
     "end_time": "2024-10-07T16:08:27.000206Z",
     "start_time": "2024-10-07T16:08:26.689579Z"
    }
   },
   "outputs": [
    {
     "name": "stderr",
     "output_type": "stream",
     "text": [
      " 10%|█         | 602/6000 [3:19:31<16:37:18, 11.09s/it, loss=1.46e-7]"
     ]
    },
    {
     "name": "stdout",
     "output_type": "stream",
     "text": [
      "epoch: 0, loss: 0.02212213845563494\n"
     ]
    },
    {
     "name": "stderr",
     "output_type": "stream",
     "text": [
      " 20%|██        | 1203/6000 [3:20:12<05:21, 14.93it/s, loss=2.09e-7]  "
     ]
    },
    {
     "name": "stdout",
     "output_type": "stream",
     "text": [
      "epoch: 1, loss: 6.565220685679181e-05\n"
     ]
    },
    {
     "name": "stderr",
     "output_type": "stream",
     "text": [
      " 30%|███       | 1802/6000 [3:20:52<04:47, 14.59it/s, loss=2.77e-7]"
     ]
    },
    {
     "name": "stdout",
     "output_type": "stream",
     "text": [
      "epoch: 2, loss: 7.010195126013484e-05\n"
     ]
    },
    {
     "name": "stderr",
     "output_type": "stream",
     "text": [
      " 40%|████      | 2403/6000 [3:21:33<03:58, 15.08it/s, loss=3.26e-7] "
     ]
    },
    {
     "name": "stdout",
     "output_type": "stream",
     "text": [
      "epoch: 3, loss: 0.00010183143679172813\n"
     ]
    },
    {
     "name": "stderr",
     "output_type": "stream",
     "text": [
      " 50%|█████     | 3002/6000 [3:22:14<03:27, 14.44it/s, loss=4.53e-7] "
     ]
    },
    {
     "name": "stdout",
     "output_type": "stream",
     "text": [
      "epoch: 4, loss: 0.0001086599355312437\n"
     ]
    },
    {
     "name": "stderr",
     "output_type": "stream",
     "text": [
      " 60%|██████    | 3603/6000 [3:22:55<02:42, 14.78it/s, loss=7.11e-7] "
     ]
    },
    {
     "name": "stdout",
     "output_type": "stream",
     "text": [
      "epoch: 5, loss: 0.00011136552088588767\n"
     ]
    },
    {
     "name": "stderr",
     "output_type": "stream",
     "text": [
      " 70%|███████   | 4203/6000 [3:23:36<02:01, 14.79it/s, loss=7.06e-7] "
     ]
    },
    {
     "name": "stdout",
     "output_type": "stream",
     "text": [
      "epoch: 6, loss: 0.00012844397995794043\n"
     ]
    },
    {
     "name": "stderr",
     "output_type": "stream",
     "text": [
      " 80%|████████  | 4802/6000 [3:24:17<01:27, 13.77it/s, loss=1.04e-6] "
     ]
    },
    {
     "name": "stdout",
     "output_type": "stream",
     "text": [
      "epoch: 7, loss: 0.00012277293219905202\n"
     ]
    },
    {
     "name": "stderr",
     "output_type": "stream",
     "text": [
      " 90%|█████████ | 5402/6000 [3:24:58<00:40, 14.87it/s, loss=1.69e-7] "
     ]
    },
    {
     "name": "stdout",
     "output_type": "stream",
     "text": [
      "epoch: 8, loss: 0.00011635792250668723\n"
     ]
    },
    {
     "name": "stderr",
     "output_type": "stream",
     "text": [
      "100%|██████████| 6000/6000 [3:25:38<00:00,  2.06s/it, loss=0.000113]"
     ]
    },
    {
     "name": "stdout",
     "output_type": "stream",
     "text": [
      "epoch: 9, loss: 0.00011258437696693945\n"
     ]
    },
    {
     "name": "stderr",
     "output_type": "stream",
     "text": [
      "\n"
     ]
    }
   ],
   "source": [
    "# 训练student模型\n",
    "epochs = 10\n",
    "with tqdm(total=epochs * len(train_loader)) as pbar:\n",
    "    for epoch in range(epochs):\n",
    "        model.train()\n",
    "        running_loss = 0.0\n",
    "        with torch.enable_grad():\n",
    "            for inputs, _ in train_loader:\n",
    "                inputs = inputs.to(device)\n",
    "                \n",
    "                loss = model(inputs)\n",
    "                optimizer.zero_grad()\n",
    "                loss.backward()\n",
    "                optimizer.step()\n",
    "                \n",
    "                running_loss += loss.item()\n",
    "                pbar.update(1)\n",
    "                pbar.set_postfix(loss=running_loss)\n",
    "        print(f\"epoch: {epoch}, loss: {running_loss}\")"
   ]
  },
  {
   "cell_type": "code",
   "execution_count": 6,
   "id": "6757d71d790b0dc",
   "metadata": {},
   "outputs": [
    {
     "name": "stdout",
     "output_type": "stream",
     "text": [
      "Saved to : /root/pyDistilledFDTD/.cache/student_model_2024-10-08-18-04-11.pth\n"
     ]
    }
   ],
   "source": [
    "# 保存模型\n",
    "\n",
    "save_path = os.path.join(cache_path, f\"student_model_{time.strftime('%Y-%m-%d-%H-%M-%S')}.pth\")\n",
    "torch.save({\n",
    "    'radius_matrix': radius_matrix,\n",
    "    'student_model': model.student_model.state_dict(),\n",
    "}, save_path)\n",
    "\n",
    "print(f\"Saved to : {save_path}\")"
   ]
  },
  {
   "cell_type": "code",
   "execution_count": 7,
   "id": "fe83acb4bae9b3fe",
   "metadata": {},
   "outputs": [
    {
     "ename": "RuntimeError",
     "evalue": "a Tensor with 10 elements cannot be converted to Scalar",
     "output_type": "error",
     "traceback": [
      "\u001B[0;31m---------------------------------------------------------------------------\u001B[0m",
      "\u001B[0;31mRuntimeError\u001B[0m                              Traceback (most recent call last)",
      "Cell \u001B[0;32mIn[7], line 13\u001B[0m\n\u001B[1;32m     11\u001B[0m         loss \u001B[38;5;241m=\u001B[39m criterion(fdtd_output, lstm_output)\n\u001B[1;32m     12\u001B[0m         total_loss \u001B[38;5;241m+\u001B[39m\u001B[38;5;241m=\u001B[39m loss\u001B[38;5;241m.\u001B[39mitem()\n\u001B[0;32m---> 13\u001B[0m         total \u001B[38;5;241m+\u001B[39m\u001B[38;5;241m=\u001B[39m \u001B[43mfdtd_output\u001B[49m\u001B[38;5;241;43m.\u001B[39;49m\u001B[43msum\u001B[49m\u001B[43m(\u001B[49m\u001B[43mdim\u001B[49m\u001B[38;5;241;43m=\u001B[39;49m\u001B[38;5;241;43m0\u001B[39;49m\u001B[43m)\u001B[49m\u001B[38;5;241;43m.\u001B[39;49m\u001B[43mitem\u001B[49m\u001B[43m(\u001B[49m\u001B[43m)\u001B[49m\n\u001B[1;32m     14\u001B[0m         \u001B[38;5;28mprint\u001B[39m(\u001B[38;5;124mf\u001B[39m\u001B[38;5;124m\"\u001B[39m\u001B[38;5;124mloss: \u001B[39m\u001B[38;5;132;01m{\u001B[39;00mloss\u001B[38;5;241m.\u001B[39mitem()\u001B[38;5;132;01m}\u001B[39;00m\u001B[38;5;124m\"\u001B[39m)\n\u001B[1;32m     15\u001B[0m \u001B[38;5;28mprint\u001B[39m(\u001B[38;5;124mf\u001B[39m\u001B[38;5;124m\"\u001B[39m\u001B[38;5;124maverage loss: \u001B[39m\u001B[38;5;132;01m{\u001B[39;00mtotal_loss\u001B[38;5;250m \u001B[39m\u001B[38;5;241m/\u001B[39m\u001B[38;5;250m \u001B[39mtotal\u001B[38;5;132;01m}\u001B[39;00m\u001B[38;5;124m\"\u001B[39m)\n",
      "\u001B[0;31mRuntimeError\u001B[0m: a Tensor with 10 elements cannot be converted to Scalar"
     ]
    }
   ],
   "source": [
    "# 测试模型\n",
    "model.eval()\n",
    "model.set_simulation_mode(fdtd=True, lstm=True)\n",
    "criterion = torch.nn.MSELoss()\n",
    "total_loss = 0.0\n",
    "total = 0.0\n",
    "with torch.no_grad():\n",
    "    for inputs, _ in test_loader:\n",
    "        inputs = inputs.to(device)\n",
    "        fdtd_output, lstm_output = model(inputs)\n",
    "        loss = criterion(fdtd_output, lstm_output)\n",
    "        total_loss += loss.item()\n",
    "        total += fdtd_output.sum().item()\n",
    "        print(f\"loss: {loss.item()}\")\n",
    "print(f\"average loss: {total_loss / total}\")"
   ]
  }
 ],
 "metadata": {
  "kernelspec": {
   "display_name": "Python 3.11.8 64-bit",
   "language": "python",
   "name": "python3"
  },
  "language_info": {
   "codemirror_mode": {
    "name": "ipython",
    "version": 3
   },
   "file_extension": ".py",
   "mimetype": "text/x-python",
   "name": "python",
   "nbconvert_exporter": "python",
   "pygments_lexer": "ipython3",
   "version": "3.11.8"
  },
  "vscode": {
   "interpreter": {
    "hash": "ca3ed784184f1b3bb7c3539bfb45e71710cd27667424f92c2d5bb4df9c107c23"
   }
  }
 },
 "nbformat": 4,
 "nbformat_minor": 5
}
