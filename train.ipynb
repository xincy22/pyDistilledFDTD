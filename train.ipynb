{
 "cells": [
  {
   "cell_type": "code",
   "id": "initial_id",
   "metadata": {
    "collapsed": true,
    "ExecuteTime": {
     "end_time": "2024-10-07T15:53:29.879784Z",
     "start_time": "2024-10-07T15:53:26.219411Z"
    }
   },
   "source": [
    "import torch\n",
    "import time\n",
    "import os\n",
    "from tqdm import tqdm\n",
    "import numpy as np\n",
    "from dataset import core_data_loader\n",
    "from model import DistillModel, StudentSequenceModel"
   ],
   "outputs": [],
   "execution_count": 1
  },
  {
   "metadata": {
    "ExecuteTime": {
     "end_time": "2024-10-07T15:53:29.990841Z",
     "start_time": "2024-10-07T15:53:29.982563Z"
    }
   },
   "cell_type": "code",
   "source": [
    "# 设置缓存路径\n",
    "dir_path = os.getcwd()\n",
    "cache_path = os.path.join(dir_path, \".cache\")\n",
    "os.makedirs(cache_path, exist_ok=True)\n",
    "\n",
    "print(f\"current working dir: {dir_path}\")\n",
    "print(f\"cache path: {cache_path}\")"
   ],
   "id": "6dcab282ac442b29",
   "outputs": [
    {
     "name": "stdout",
     "output_type": "stream",
     "text": [
      "current working dir: /root/workspace\n",
      "cache path: /root/workspace/.cache\n"
     ]
    }
   ],
   "execution_count": 2
  },
  {
   "metadata": {
    "ExecuteTime": {
     "end_time": "2024-10-07T15:53:30.447012Z",
     "start_time": "2024-10-07T15:53:30.439601Z"
    }
   },
   "cell_type": "code",
   "source": [
    "# 加载数据\n",
    "train_loader, test_loader = core_data_loader(eta=0.01, batch_size=1)\n",
    "\n",
    "print(f\"train data size: {len(train_loader)}\")\n",
    "print(f\"test data size: {len(test_loader)}\")\n",
    "\n",
    "# 设置设备\n",
    "device = torch.device(\"cuda\" if torch.cuda.is_available() else \"cpu\")"
   ],
   "id": "f3417ec36384df07",
   "outputs": [
    {
     "name": "stdout",
     "output_type": "stream",
     "text": [
      "Loading core data from /root/workspace/dataset/.cache/core/greedy/pca-components-10/batch-size-1-eta-0.01.pkl\n",
      "train data size: 600\n"
     ]
    }
   ],
   "execution_count": 3
  },
  {
   "metadata": {
    "ExecuteTime": {
     "end_time": "2024-10-07T15:53:30.867713Z",
     "start_time": "2024-10-07T15:53:30.557246Z"
    }
   },
   "cell_type": "code",
   "source": [
    "# 加载模型、优化器\n",
    "radius_matrix = np.random.rand(10, 10)\n",
    "print(radius_matrix)\n",
    "model = DistillModel(radius_matrix, StudentSequenceModel).to(device)\n",
    "optimizer = torch.optim.Adam(model.student_model.parameters(), lr=0.01)"
   ],
   "id": "798bdc56bb1eb",
   "outputs": [
    {
     "name": "stdout",
     "output_type": "stream",
     "text": [
      "[[0.74144352 0.93312757 0.39944224 0.44104345 0.81284844 0.64433732\n",
      "  0.01969037 0.41854158 0.83051604 0.36676751]\n",
      " [0.66537331 0.42724964 0.79199806 0.16269146 0.09730517 0.12815412\n",
      "  0.21394893 0.53558227 0.31730907 0.13952898]\n",
      " [0.59946679 0.70686517 0.52314236 0.35449604 0.53243085 0.78531035\n",
      "  0.27728216 0.32957445 0.02195541 0.00550055]\n",
      " [0.23811725 0.55398471 0.8808384  0.3740212  0.61429861 0.83877077\n",
      "  0.73148468 0.14524496 0.55022673 0.44976414]\n",
      " [0.47046916 0.63228118 0.73088256 0.16831211 0.47753573 0.82318034\n",
      "  0.49314063 0.99890957 0.31838699 0.70840112]\n",
      " [0.44344174 0.64846021 0.50238308 0.1285439  0.50276071 0.51782969\n",
      "  0.51579816 0.12860355 0.79742273 0.33012636]\n",
      " [0.35129276 0.69827958 0.02250548 0.10200456 0.48717925 0.15999549\n",
      "  0.42714782 0.18456714 0.74224733 0.85790775]\n",
      " [0.97355415 0.82533421 0.21060241 0.49877147 0.45632135 0.46725178\n",
      "  0.27105936 0.39653894 0.41981504 0.19208537]\n",
      " [0.29022756 0.11241783 0.95865382 0.80947836 0.89260983 0.78821077\n",
      "  0.17257296 0.98306555 0.53149481 0.1884096 ]\n",
      " [0.36136367 0.18697273 0.94416005 0.34032229 0.58988114 0.22773769\n",
      "  0.33516732 0.82515539 0.06593703 0.86036947]]\n"
     ]
    }
   ],
   "execution_count": 4
  },
  {
   "metadata": {
    "ExecuteTime": {
     "end_time": "2024-10-07T16:08:27.000206Z",
     "start_time": "2024-10-07T16:08:26.689579Z"
    }
   },
   "cell_type": "code",
   "source": [
    "# 训练student模型\n",
    "epochs = 10\n",
    "with tqdm(total=epochs * len(train_loader)) as pbar:\n",
    "    for epoch in range(epochs):\n",
    "        model.train()\n",
    "        running_loss = 0.0\n",
    "        with torch.enable_grad():\n",
    "            for inputs, _ in train_loader:\n",
    "                inputs = inputs.to(device)\n",
    "                \n",
    "                loss = model(inputs)\n",
    "                optimizer.zero_grad()\n",
    "                loss.backward()\n",
    "                optimizer.step()\n",
    "                \n",
    "                running_loss += loss.item()\n",
    "                pbar.update(1)\n",
    "                pbar.set_postfix(loss=running_loss)\n",
    "        print(f\"epoch: {epoch}, loss: {running_loss}\")"
   ],
   "id": "bc3a308411e6a946",
   "outputs": [
    {
     "ename": "NameError",
     "evalue": "name 'tqdm' is not defined",
     "output_type": "error",
     "traceback": [
      "\u001B[0;31m---------------------------------------------------------------------------\u001B[0m",
      "\u001B[0;31mNameError\u001B[0m                                 Traceback (most recent call last)",
      "Cell \u001B[0;32mIn[1], line 3\u001B[0m\n\u001B[1;32m      1\u001B[0m \u001B[38;5;66;03m# 训练student模型\u001B[39;00m\n\u001B[1;32m      2\u001B[0m epochs \u001B[38;5;241m=\u001B[39m \u001B[38;5;241m10\u001B[39m\n\u001B[0;32m----> 3\u001B[0m \u001B[38;5;28;01mwith\u001B[39;00m \u001B[43mtqdm\u001B[49m(total\u001B[38;5;241m=\u001B[39mepochs \u001B[38;5;241m*\u001B[39m \u001B[38;5;28mlen\u001B[39m(train_loader)) \u001B[38;5;28;01mas\u001B[39;00m pbar:\n\u001B[1;32m      4\u001B[0m     \u001B[38;5;28;01mfor\u001B[39;00m epoch \u001B[38;5;129;01min\u001B[39;00m \u001B[38;5;28mrange\u001B[39m(epochs):\n\u001B[1;32m      5\u001B[0m         model\u001B[38;5;241m.\u001B[39mtrain()\n",
      "\u001B[0;31mNameError\u001B[0m: name 'tqdm' is not defined"
     ]
    }
   ],
   "execution_count": 1
  },
  {
   "metadata": {},
   "cell_type": "code",
   "source": [
    "# 保存模型\n",
    "\n",
    "save_path = os.path.join(cache_path, f\"student_model_{time.strftime('%Y-%m-%d-%H-%M-%S')}.pth\")\n",
    "torch.save({\n",
    "    'radius_matrix': radius_matrix,\n",
    "    'student_model': model.student_model.state_dict(),\n",
    "}, save_path)\n",
    "\n",
    "print(f\"Saved to : {save_path}\")"
   ],
   "id": "6757d71d790b0dc",
   "outputs": [],
   "execution_count": null
  },
  {
   "metadata": {},
   "cell_type": "code",
   "outputs": [],
   "execution_count": null,
   "source": [
    "# 测试模型\n",
    "model.eval()\n",
    "model.set_simulation_mode(fdtd=True, lstm=True)\n",
    "criterion = torch.nn.MSELoss()\n",
    "total_loss = 0.0\n",
    "total = 0.0\n",
    "with torch.no_grad():\n",
    "    for inputs, _ in test_loader:\n",
    "        inputs = inputs.to(device)\n",
    "        fdtd_output, lstm_output = model(inputs)\n",
    "        loss = criterion(fdtd_output, lstm_output)\n",
    "        total_loss += loss.item()\n",
    "        total += fdtd_output.sum(dim=0).item()\n",
    "        print(f\"loss: {loss.item()}\")\n",
    "print(f\"average loss: {total_loss / total}\")"
   ],
   "id": "fe83acb4bae9b3fe"
  }
 ],
 "metadata": {
  "kernelspec": {
   "display_name": "Python 3",
   "language": "python",
   "name": "python3"
  },
  "language_info": {
   "codemirror_mode": {
    "name": "ipython",
    "version": 2
   },
   "file_extension": ".py",
   "mimetype": "text/x-python",
   "name": "python",
   "nbconvert_exporter": "python",
   "pygments_lexer": "ipython2",
   "version": "2.7.6"
  }
 },
 "nbformat": 4,
 "nbformat_minor": 5
}
